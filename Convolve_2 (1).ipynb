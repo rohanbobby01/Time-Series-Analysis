{
  "nbformat": 4,
  "nbformat_minor": 0,
  "metadata": {
    "colab": {
      "provenance": []
    },
    "kernelspec": {
      "name": "python3",
      "display_name": "Python 3"
    },
    "language_info": {
      "name": "python"
    }
  },
  "cells": [
    {
      "cell_type": "code",
      "source": [
        "from datetime import datetime"
      ],
      "metadata": {
        "id": "FkQco8SWhCtp"
      },
      "execution_count": 86,
      "outputs": []
    },
    {
      "cell_type": "code",
      "execution_count": 146,
      "metadata": {
        "id": "hnc9X1x9eihs"
      },
      "outputs": [],
      "source": [
        "import pandas as pd\n",
        "import matplotlib.pyplot as plt\n",
        "import numpy as np\n",
        "\n",
        "from sklearn.ensemble import RandomForestClassifier"
      ]
    },
    {
      "cell_type": "code",
      "source": [
        "import warnings\n",
        "warnings.filterwarnings('ignore')"
      ],
      "metadata": {
        "id": "t6CASGCt3BDv"
      },
      "execution_count": 88,
      "outputs": []
    },
    {
      "cell_type": "code",
      "source": [
        "df = pd.read_csv(\"/content/PLID_Bookings_Problem1.csv\")"
      ],
      "metadata": {
        "id": "T5AaMZRbfp8L"
      },
      "execution_count": 89,
      "outputs": []
    },
    {
      "cell_type": "code",
      "source": [
        "dateparse = lambda x: datetime.strptime(x, '%d-%m-%Y')"
      ],
      "metadata": {
        "id": "ip8uxfj4hIFr"
      },
      "execution_count": 90,
      "outputs": []
    },
    {
      "cell_type": "code",
      "source": [
        "df.head()"
      ],
      "metadata": {
        "colab": {
          "base_uri": "https://localhost:8080/",
          "height": 250
        },
        "id": "U7p1AAT6ftnF",
        "outputId": "306f2cbf-d659-4a9a-acd1-1f405555761d"
      },
      "execution_count": 91,
      "outputs": [
        {
          "output_type": "execute_result",
          "data": {
            "text/plain": [
              "  Business Unit Product Family             PLID Fiscal Quarter Fiscal Month  \\\n",
              "0         CSWBU           CBR8  CBR-D121-DS-MOD      Q1 FY2022   AUG FY2022   \n",
              "1         CSWBU           CBR8  CBR-D121-DS-MOD      Q1 FY2022   OCT FY2022   \n",
              "2         CSWBU           CBR8  CBR-D121-DS-MOD      Q1 FY2022   SEP FY2022   \n",
              "3         CSWBU           CBR8  CBR-D121-DS-MOD      Q1 FY2002   AUG FY2002   \n",
              "4         CSWBU           CBR8  CBR-D121-DS-MOD      Q1 FY2002   OCT FY2002   \n",
              "\n",
              "   Booked_Qty Booking_Date  \n",
              "0         204   01-08-2016  \n",
              "1         564   01-10-2016  \n",
              "2        1476   01-09-2016  \n",
              "3         374   01-08-2017  \n",
              "4        6094   01-10-2017  "
            ],
            "text/html": [
              "\n",
              "  <div id=\"df-e30d2326-9a5b-40e8-b7cb-787fd8de06a0\">\n",
              "    <div class=\"colab-df-container\">\n",
              "      <div>\n",
              "<style scoped>\n",
              "    .dataframe tbody tr th:only-of-type {\n",
              "        vertical-align: middle;\n",
              "    }\n",
              "\n",
              "    .dataframe tbody tr th {\n",
              "        vertical-align: top;\n",
              "    }\n",
              "\n",
              "    .dataframe thead th {\n",
              "        text-align: right;\n",
              "    }\n",
              "</style>\n",
              "<table border=\"1\" class=\"dataframe\">\n",
              "  <thead>\n",
              "    <tr style=\"text-align: right;\">\n",
              "      <th></th>\n",
              "      <th>Business Unit</th>\n",
              "      <th>Product Family</th>\n",
              "      <th>PLID</th>\n",
              "      <th>Fiscal Quarter</th>\n",
              "      <th>Fiscal Month</th>\n",
              "      <th>Booked_Qty</th>\n",
              "      <th>Booking_Date</th>\n",
              "    </tr>\n",
              "  </thead>\n",
              "  <tbody>\n",
              "    <tr>\n",
              "      <th>0</th>\n",
              "      <td>CSWBU</td>\n",
              "      <td>CBR8</td>\n",
              "      <td>CBR-D121-DS-MOD</td>\n",
              "      <td>Q1 FY2022</td>\n",
              "      <td>AUG FY2022</td>\n",
              "      <td>204</td>\n",
              "      <td>01-08-2016</td>\n",
              "    </tr>\n",
              "    <tr>\n",
              "      <th>1</th>\n",
              "      <td>CSWBU</td>\n",
              "      <td>CBR8</td>\n",
              "      <td>CBR-D121-DS-MOD</td>\n",
              "      <td>Q1 FY2022</td>\n",
              "      <td>OCT FY2022</td>\n",
              "      <td>564</td>\n",
              "      <td>01-10-2016</td>\n",
              "    </tr>\n",
              "    <tr>\n",
              "      <th>2</th>\n",
              "      <td>CSWBU</td>\n",
              "      <td>CBR8</td>\n",
              "      <td>CBR-D121-DS-MOD</td>\n",
              "      <td>Q1 FY2022</td>\n",
              "      <td>SEP FY2022</td>\n",
              "      <td>1476</td>\n",
              "      <td>01-09-2016</td>\n",
              "    </tr>\n",
              "    <tr>\n",
              "      <th>3</th>\n",
              "      <td>CSWBU</td>\n",
              "      <td>CBR8</td>\n",
              "      <td>CBR-D121-DS-MOD</td>\n",
              "      <td>Q1 FY2002</td>\n",
              "      <td>AUG FY2002</td>\n",
              "      <td>374</td>\n",
              "      <td>01-08-2017</td>\n",
              "    </tr>\n",
              "    <tr>\n",
              "      <th>4</th>\n",
              "      <td>CSWBU</td>\n",
              "      <td>CBR8</td>\n",
              "      <td>CBR-D121-DS-MOD</td>\n",
              "      <td>Q1 FY2002</td>\n",
              "      <td>OCT FY2002</td>\n",
              "      <td>6094</td>\n",
              "      <td>01-10-2017</td>\n",
              "    </tr>\n",
              "  </tbody>\n",
              "</table>\n",
              "</div>\n",
              "      <button class=\"colab-df-convert\" onclick=\"convertToInteractive('df-e30d2326-9a5b-40e8-b7cb-787fd8de06a0')\"\n",
              "              title=\"Convert this dataframe to an interactive table.\"\n",
              "              style=\"display:none;\">\n",
              "        \n",
              "  <svg xmlns=\"http://www.w3.org/2000/svg\" height=\"24px\"viewBox=\"0 0 24 24\"\n",
              "       width=\"24px\">\n",
              "    <path d=\"M0 0h24v24H0V0z\" fill=\"none\"/>\n",
              "    <path d=\"M18.56 5.44l.94 2.06.94-2.06 2.06-.94-2.06-.94-.94-2.06-.94 2.06-2.06.94zm-11 1L8.5 8.5l.94-2.06 2.06-.94-2.06-.94L8.5 2.5l-.94 2.06-2.06.94zm10 10l.94 2.06.94-2.06 2.06-.94-2.06-.94-.94-2.06-.94 2.06-2.06.94z\"/><path d=\"M17.41 7.96l-1.37-1.37c-.4-.4-.92-.59-1.43-.59-.52 0-1.04.2-1.43.59L10.3 9.45l-7.72 7.72c-.78.78-.78 2.05 0 2.83L4 21.41c.39.39.9.59 1.41.59.51 0 1.02-.2 1.41-.59l7.78-7.78 2.81-2.81c.8-.78.8-2.07 0-2.86zM5.41 20L4 18.59l7.72-7.72 1.47 1.35L5.41 20z\"/>\n",
              "  </svg>\n",
              "      </button>\n",
              "      \n",
              "  <style>\n",
              "    .colab-df-container {\n",
              "      display:flex;\n",
              "      flex-wrap:wrap;\n",
              "      gap: 12px;\n",
              "    }\n",
              "\n",
              "    .colab-df-convert {\n",
              "      background-color: #E8F0FE;\n",
              "      border: none;\n",
              "      border-radius: 50%;\n",
              "      cursor: pointer;\n",
              "      display: none;\n",
              "      fill: #1967D2;\n",
              "      height: 32px;\n",
              "      padding: 0 0 0 0;\n",
              "      width: 32px;\n",
              "    }\n",
              "\n",
              "    .colab-df-convert:hover {\n",
              "      background-color: #E2EBFA;\n",
              "      box-shadow: 0px 1px 2px rgba(60, 64, 67, 0.3), 0px 1px 3px 1px rgba(60, 64, 67, 0.15);\n",
              "      fill: #174EA6;\n",
              "    }\n",
              "\n",
              "    [theme=dark] .colab-df-convert {\n",
              "      background-color: #3B4455;\n",
              "      fill: #D2E3FC;\n",
              "    }\n",
              "\n",
              "    [theme=dark] .colab-df-convert:hover {\n",
              "      background-color: #434B5C;\n",
              "      box-shadow: 0px 1px 3px 1px rgba(0, 0, 0, 0.15);\n",
              "      filter: drop-shadow(0px 1px 2px rgba(0, 0, 0, 0.3));\n",
              "      fill: #FFFFFF;\n",
              "    }\n",
              "  </style>\n",
              "\n",
              "      <script>\n",
              "        const buttonEl =\n",
              "          document.querySelector('#df-e30d2326-9a5b-40e8-b7cb-787fd8de06a0 button.colab-df-convert');\n",
              "        buttonEl.style.display =\n",
              "          google.colab.kernel.accessAllowed ? 'block' : 'none';\n",
              "\n",
              "        async function convertToInteractive(key) {\n",
              "          const element = document.querySelector('#df-e30d2326-9a5b-40e8-b7cb-787fd8de06a0');\n",
              "          const dataTable =\n",
              "            await google.colab.kernel.invokeFunction('convertToInteractive',\n",
              "                                                     [key], {});\n",
              "          if (!dataTable) return;\n",
              "\n",
              "          const docLinkHtml = 'Like what you see? Visit the ' +\n",
              "            '<a target=\"_blank\" href=https://colab.research.google.com/notebooks/data_table.ipynb>data table notebook</a>'\n",
              "            + ' to learn more about interactive tables.';\n",
              "          element.innerHTML = '';\n",
              "          dataTable['output_type'] = 'display_data';\n",
              "          await google.colab.output.renderOutput(dataTable, element);\n",
              "          const docLink = document.createElement('div');\n",
              "          docLink.innerHTML = docLinkHtml;\n",
              "          element.appendChild(docLink);\n",
              "        }\n",
              "      </script>\n",
              "    </div>\n",
              "  </div>\n",
              "  "
            ]
          },
          "metadata": {},
          "execution_count": 91
        }
      ]
    },
    {
      "cell_type": "markdown",
      "source": [
        "Parsing dates\n",
        "\n",
        "When we work with time series data, we want to enrich the time and date component as much as possible.\n",
        "\n",
        "We can do that by telling pandas which of our columns has dates in it using the parse_dates parameter."
      ],
      "metadata": {
        "id": "C3S3FEqf8nFd"
      }
    },
    {
      "cell_type": "code",
      "source": [
        "df = pd.read_csv(\"/content/PLID_Bookings_Problem1.csv\",\n",
        "                 parse_dates=[\"Booking_Date\"],date_parser=dateparse)"
      ],
      "metadata": {
        "id": "g4SC05J68uXa"
      },
      "execution_count": 92,
      "outputs": []
    },
    {
      "cell_type": "code",
      "source": [
        "df.describe()"
      ],
      "metadata": {
        "colab": {
          "base_uri": "https://localhost:8080/",
          "height": 300
        },
        "id": "ZgWPnWcZ9TA4",
        "outputId": "88cc75e3-2768-469f-ad6c-6dd4e91242a9"
      },
      "execution_count": 135,
      "outputs": [
        {
          "output_type": "execute_result",
          "data": {
            "text/plain": [
              "          Booked_Qty\n",
              "count   10996.000000\n",
              "mean     7068.159694\n",
              "std     18819.530678\n",
              "min         0.000000\n",
              "25%       154.750000\n",
              "50%       835.000000\n",
              "75%      3829.500000\n",
              "max    322807.000000"
            ],
            "text/html": [
              "\n",
              "  <div id=\"df-aaa50157-c5a8-4694-b3a4-4bd989488725\">\n",
              "    <div class=\"colab-df-container\">\n",
              "      <div>\n",
              "<style scoped>\n",
              "    .dataframe tbody tr th:only-of-type {\n",
              "        vertical-align: middle;\n",
              "    }\n",
              "\n",
              "    .dataframe tbody tr th {\n",
              "        vertical-align: top;\n",
              "    }\n",
              "\n",
              "    .dataframe thead th {\n",
              "        text-align: right;\n",
              "    }\n",
              "</style>\n",
              "<table border=\"1\" class=\"dataframe\">\n",
              "  <thead>\n",
              "    <tr style=\"text-align: right;\">\n",
              "      <th></th>\n",
              "      <th>Booked_Qty</th>\n",
              "    </tr>\n",
              "  </thead>\n",
              "  <tbody>\n",
              "    <tr>\n",
              "      <th>count</th>\n",
              "      <td>10996.000000</td>\n",
              "    </tr>\n",
              "    <tr>\n",
              "      <th>mean</th>\n",
              "      <td>7068.159694</td>\n",
              "    </tr>\n",
              "    <tr>\n",
              "      <th>std</th>\n",
              "      <td>18819.530678</td>\n",
              "    </tr>\n",
              "    <tr>\n",
              "      <th>min</th>\n",
              "      <td>0.000000</td>\n",
              "    </tr>\n",
              "    <tr>\n",
              "      <th>25%</th>\n",
              "      <td>154.750000</td>\n",
              "    </tr>\n",
              "    <tr>\n",
              "      <th>50%</th>\n",
              "      <td>835.000000</td>\n",
              "    </tr>\n",
              "    <tr>\n",
              "      <th>75%</th>\n",
              "      <td>3829.500000</td>\n",
              "    </tr>\n",
              "    <tr>\n",
              "      <th>max</th>\n",
              "      <td>322807.000000</td>\n",
              "    </tr>\n",
              "  </tbody>\n",
              "</table>\n",
              "</div>\n",
              "      <button class=\"colab-df-convert\" onclick=\"convertToInteractive('df-aaa50157-c5a8-4694-b3a4-4bd989488725')\"\n",
              "              title=\"Convert this dataframe to an interactive table.\"\n",
              "              style=\"display:none;\">\n",
              "        \n",
              "  <svg xmlns=\"http://www.w3.org/2000/svg\" height=\"24px\"viewBox=\"0 0 24 24\"\n",
              "       width=\"24px\">\n",
              "    <path d=\"M0 0h24v24H0V0z\" fill=\"none\"/>\n",
              "    <path d=\"M18.56 5.44l.94 2.06.94-2.06 2.06-.94-2.06-.94-.94-2.06-.94 2.06-2.06.94zm-11 1L8.5 8.5l.94-2.06 2.06-.94-2.06-.94L8.5 2.5l-.94 2.06-2.06.94zm10 10l.94 2.06.94-2.06 2.06-.94-2.06-.94-.94-2.06-.94 2.06-2.06.94z\"/><path d=\"M17.41 7.96l-1.37-1.37c-.4-.4-.92-.59-1.43-.59-.52 0-1.04.2-1.43.59L10.3 9.45l-7.72 7.72c-.78.78-.78 2.05 0 2.83L4 21.41c.39.39.9.59 1.41.59.51 0 1.02-.2 1.41-.59l7.78-7.78 2.81-2.81c.8-.78.8-2.07 0-2.86zM5.41 20L4 18.59l7.72-7.72 1.47 1.35L5.41 20z\"/>\n",
              "  </svg>\n",
              "      </button>\n",
              "      \n",
              "  <style>\n",
              "    .colab-df-container {\n",
              "      display:flex;\n",
              "      flex-wrap:wrap;\n",
              "      gap: 12px;\n",
              "    }\n",
              "\n",
              "    .colab-df-convert {\n",
              "      background-color: #E8F0FE;\n",
              "      border: none;\n",
              "      border-radius: 50%;\n",
              "      cursor: pointer;\n",
              "      display: none;\n",
              "      fill: #1967D2;\n",
              "      height: 32px;\n",
              "      padding: 0 0 0 0;\n",
              "      width: 32px;\n",
              "    }\n",
              "\n",
              "    .colab-df-convert:hover {\n",
              "      background-color: #E2EBFA;\n",
              "      box-shadow: 0px 1px 2px rgba(60, 64, 67, 0.3), 0px 1px 3px 1px rgba(60, 64, 67, 0.15);\n",
              "      fill: #174EA6;\n",
              "    }\n",
              "\n",
              "    [theme=dark] .colab-df-convert {\n",
              "      background-color: #3B4455;\n",
              "      fill: #D2E3FC;\n",
              "    }\n",
              "\n",
              "    [theme=dark] .colab-df-convert:hover {\n",
              "      background-color: #434B5C;\n",
              "      box-shadow: 0px 1px 3px 1px rgba(0, 0, 0, 0.15);\n",
              "      filter: drop-shadow(0px 1px 2px rgba(0, 0, 0, 0.3));\n",
              "      fill: #FFFFFF;\n",
              "    }\n",
              "  </style>\n",
              "\n",
              "      <script>\n",
              "        const buttonEl =\n",
              "          document.querySelector('#df-aaa50157-c5a8-4694-b3a4-4bd989488725 button.colab-df-convert');\n",
              "        buttonEl.style.display =\n",
              "          google.colab.kernel.accessAllowed ? 'block' : 'none';\n",
              "\n",
              "        async function convertToInteractive(key) {\n",
              "          const element = document.querySelector('#df-aaa50157-c5a8-4694-b3a4-4bd989488725');\n",
              "          const dataTable =\n",
              "            await google.colab.kernel.invokeFunction('convertToInteractive',\n",
              "                                                     [key], {});\n",
              "          if (!dataTable) return;\n",
              "\n",
              "          const docLinkHtml = 'Like what you see? Visit the ' +\n",
              "            '<a target=\"_blank\" href=https://colab.research.google.com/notebooks/data_table.ipynb>data table notebook</a>'\n",
              "            + ' to learn more about interactive tables.';\n",
              "          element.innerHTML = '';\n",
              "          dataTable['output_type'] = 'display_data';\n",
              "          await google.colab.output.renderOutput(dataTable, element);\n",
              "          const docLink = document.createElement('div');\n",
              "          docLink.innerHTML = docLinkHtml;\n",
              "          element.appendChild(docLink);\n",
              "        }\n",
              "      </script>\n",
              "    </div>\n",
              "  </div>\n",
              "  "
            ]
          },
          "metadata": {},
          "execution_count": 135
        }
      ]
    },
    {
      "cell_type": "markdown",
      "source": [
        "# Binning\n",
        "\n",
        "XS: 0-100 products\n",
        "\n",
        "S: 100-500 products\n",
        "\n",
        "M: 500-1000 products\n",
        "\n",
        "L: 1000-5000 products\n",
        "\n",
        "XL: 5000+ products"
      ],
      "metadata": {
        "id": "78GPZcq216Hm"
      }
    },
    {
      "cell_type": "code",
      "source": [
        "C = []"
      ],
      "metadata": {
        "id": "FGy8LrR_2B7Q"
      },
      "execution_count": 93,
      "outputs": []
    },
    {
      "cell_type": "code",
      "source": [
        "df['Booked_Qty'][0]"
      ],
      "metadata": {
        "colab": {
          "base_uri": "https://localhost:8080/"
        },
        "id": "4wIdROyh3jnT",
        "outputId": "e24addf2-fea2-4fbe-bec8-6e47eb76f93f"
      },
      "execution_count": 94,
      "outputs": [
        {
          "output_type": "execute_result",
          "data": {
            "text/plain": [
              "204"
            ]
          },
          "metadata": {},
          "execution_count": 94
        }
      ]
    },
    {
      "cell_type": "code",
      "source": [
        "for item in df['Booked_Qty']:\n",
        "  if item<100:\n",
        "    C.append('XS')\n",
        "  elif item<500:\n",
        "    C.append('S')\n",
        "  elif item<1000:\n",
        "    C.append('M')\n",
        "  elif item<5000:\n",
        "    C.append('L')\n",
        "  else:\n",
        "    C.append('XL')"
      ],
      "metadata": {
        "id": "kZ-ngLBJ2J5n"
      },
      "execution_count": 95,
      "outputs": []
    },
    {
      "cell_type": "code",
      "source": [
        "df['Capacity'] = pd.Series(C)"
      ],
      "metadata": {
        "id": "5HR-ToFc2RxH"
      },
      "execution_count": 96,
      "outputs": []
    },
    {
      "cell_type": "code",
      "source": [
        "df.head()"
      ],
      "metadata": {
        "colab": {
          "base_uri": "https://localhost:8080/",
          "height": 354
        },
        "id": "LBkm5kco2SnN",
        "outputId": "7ddac26f-5229-4fe4-bfb3-76ff4a99860d"
      },
      "execution_count": 97,
      "outputs": [
        {
          "output_type": "execute_result",
          "data": {
            "text/plain": [
              "  Business Unit Product Family             PLID Fiscal Quarter Fiscal Month  \\\n",
              "0         CSWBU           CBR8  CBR-D121-DS-MOD      Q1 FY2022   AUG FY2022   \n",
              "1         CSWBU           CBR8  CBR-D121-DS-MOD      Q1 FY2022   OCT FY2022   \n",
              "2         CSWBU           CBR8  CBR-D121-DS-MOD      Q1 FY2022   SEP FY2022   \n",
              "3         CSWBU           CBR8  CBR-D121-DS-MOD      Q1 FY2002   AUG FY2002   \n",
              "4         CSWBU           CBR8  CBR-D121-DS-MOD      Q1 FY2002   OCT FY2002   \n",
              "\n",
              "   Booked_Qty Booking_Date Capacity  \n",
              "0         204   2016-08-01        S  \n",
              "1         564   2016-10-01        M  \n",
              "2        1476   2016-09-01        L  \n",
              "3         374   2017-08-01        S  \n",
              "4        6094   2017-10-01       XL  "
            ],
            "text/html": [
              "\n",
              "  <div id=\"df-f91ffd95-bba2-4a96-8d75-c6cdd89bfe5a\">\n",
              "    <div class=\"colab-df-container\">\n",
              "      <div>\n",
              "<style scoped>\n",
              "    .dataframe tbody tr th:only-of-type {\n",
              "        vertical-align: middle;\n",
              "    }\n",
              "\n",
              "    .dataframe tbody tr th {\n",
              "        vertical-align: top;\n",
              "    }\n",
              "\n",
              "    .dataframe thead th {\n",
              "        text-align: right;\n",
              "    }\n",
              "</style>\n",
              "<table border=\"1\" class=\"dataframe\">\n",
              "  <thead>\n",
              "    <tr style=\"text-align: right;\">\n",
              "      <th></th>\n",
              "      <th>Business Unit</th>\n",
              "      <th>Product Family</th>\n",
              "      <th>PLID</th>\n",
              "      <th>Fiscal Quarter</th>\n",
              "      <th>Fiscal Month</th>\n",
              "      <th>Booked_Qty</th>\n",
              "      <th>Booking_Date</th>\n",
              "      <th>Capacity</th>\n",
              "    </tr>\n",
              "  </thead>\n",
              "  <tbody>\n",
              "    <tr>\n",
              "      <th>0</th>\n",
              "      <td>CSWBU</td>\n",
              "      <td>CBR8</td>\n",
              "      <td>CBR-D121-DS-MOD</td>\n",
              "      <td>Q1 FY2022</td>\n",
              "      <td>AUG FY2022</td>\n",
              "      <td>204</td>\n",
              "      <td>2016-08-01</td>\n",
              "      <td>S</td>\n",
              "    </tr>\n",
              "    <tr>\n",
              "      <th>1</th>\n",
              "      <td>CSWBU</td>\n",
              "      <td>CBR8</td>\n",
              "      <td>CBR-D121-DS-MOD</td>\n",
              "      <td>Q1 FY2022</td>\n",
              "      <td>OCT FY2022</td>\n",
              "      <td>564</td>\n",
              "      <td>2016-10-01</td>\n",
              "      <td>M</td>\n",
              "    </tr>\n",
              "    <tr>\n",
              "      <th>2</th>\n",
              "      <td>CSWBU</td>\n",
              "      <td>CBR8</td>\n",
              "      <td>CBR-D121-DS-MOD</td>\n",
              "      <td>Q1 FY2022</td>\n",
              "      <td>SEP FY2022</td>\n",
              "      <td>1476</td>\n",
              "      <td>2016-09-01</td>\n",
              "      <td>L</td>\n",
              "    </tr>\n",
              "    <tr>\n",
              "      <th>3</th>\n",
              "      <td>CSWBU</td>\n",
              "      <td>CBR8</td>\n",
              "      <td>CBR-D121-DS-MOD</td>\n",
              "      <td>Q1 FY2002</td>\n",
              "      <td>AUG FY2002</td>\n",
              "      <td>374</td>\n",
              "      <td>2017-08-01</td>\n",
              "      <td>S</td>\n",
              "    </tr>\n",
              "    <tr>\n",
              "      <th>4</th>\n",
              "      <td>CSWBU</td>\n",
              "      <td>CBR8</td>\n",
              "      <td>CBR-D121-DS-MOD</td>\n",
              "      <td>Q1 FY2002</td>\n",
              "      <td>OCT FY2002</td>\n",
              "      <td>6094</td>\n",
              "      <td>2017-10-01</td>\n",
              "      <td>XL</td>\n",
              "    </tr>\n",
              "  </tbody>\n",
              "</table>\n",
              "</div>\n",
              "      <button class=\"colab-df-convert\" onclick=\"convertToInteractive('df-f91ffd95-bba2-4a96-8d75-c6cdd89bfe5a')\"\n",
              "              title=\"Convert this dataframe to an interactive table.\"\n",
              "              style=\"display:none;\">\n",
              "        \n",
              "  <svg xmlns=\"http://www.w3.org/2000/svg\" height=\"24px\"viewBox=\"0 0 24 24\"\n",
              "       width=\"24px\">\n",
              "    <path d=\"M0 0h24v24H0V0z\" fill=\"none\"/>\n",
              "    <path d=\"M18.56 5.44l.94 2.06.94-2.06 2.06-.94-2.06-.94-.94-2.06-.94 2.06-2.06.94zm-11 1L8.5 8.5l.94-2.06 2.06-.94-2.06-.94L8.5 2.5l-.94 2.06-2.06.94zm10 10l.94 2.06.94-2.06 2.06-.94-2.06-.94-.94-2.06-.94 2.06-2.06.94z\"/><path d=\"M17.41 7.96l-1.37-1.37c-.4-.4-.92-.59-1.43-.59-.52 0-1.04.2-1.43.59L10.3 9.45l-7.72 7.72c-.78.78-.78 2.05 0 2.83L4 21.41c.39.39.9.59 1.41.59.51 0 1.02-.2 1.41-.59l7.78-7.78 2.81-2.81c.8-.78.8-2.07 0-2.86zM5.41 20L4 18.59l7.72-7.72 1.47 1.35L5.41 20z\"/>\n",
              "  </svg>\n",
              "      </button>\n",
              "      \n",
              "  <style>\n",
              "    .colab-df-container {\n",
              "      display:flex;\n",
              "      flex-wrap:wrap;\n",
              "      gap: 12px;\n",
              "    }\n",
              "\n",
              "    .colab-df-convert {\n",
              "      background-color: #E8F0FE;\n",
              "      border: none;\n",
              "      border-radius: 50%;\n",
              "      cursor: pointer;\n",
              "      display: none;\n",
              "      fill: #1967D2;\n",
              "      height: 32px;\n",
              "      padding: 0 0 0 0;\n",
              "      width: 32px;\n",
              "    }\n",
              "\n",
              "    .colab-df-convert:hover {\n",
              "      background-color: #E2EBFA;\n",
              "      box-shadow: 0px 1px 2px rgba(60, 64, 67, 0.3), 0px 1px 3px 1px rgba(60, 64, 67, 0.15);\n",
              "      fill: #174EA6;\n",
              "    }\n",
              "\n",
              "    [theme=dark] .colab-df-convert {\n",
              "      background-color: #3B4455;\n",
              "      fill: #D2E3FC;\n",
              "    }\n",
              "\n",
              "    [theme=dark] .colab-df-convert:hover {\n",
              "      background-color: #434B5C;\n",
              "      box-shadow: 0px 1px 3px 1px rgba(0, 0, 0, 0.15);\n",
              "      filter: drop-shadow(0px 1px 2px rgba(0, 0, 0, 0.3));\n",
              "      fill: #FFFFFF;\n",
              "    }\n",
              "  </style>\n",
              "\n",
              "      <script>\n",
              "        const buttonEl =\n",
              "          document.querySelector('#df-f91ffd95-bba2-4a96-8d75-c6cdd89bfe5a button.colab-df-convert');\n",
              "        buttonEl.style.display =\n",
              "          google.colab.kernel.accessAllowed ? 'block' : 'none';\n",
              "\n",
              "        async function convertToInteractive(key) {\n",
              "          const element = document.querySelector('#df-f91ffd95-bba2-4a96-8d75-c6cdd89bfe5a');\n",
              "          const dataTable =\n",
              "            await google.colab.kernel.invokeFunction('convertToInteractive',\n",
              "                                                     [key], {});\n",
              "          if (!dataTable) return;\n",
              "\n",
              "          const docLinkHtml = 'Like what you see? Visit the ' +\n",
              "            '<a target=\"_blank\" href=https://colab.research.google.com/notebooks/data_table.ipynb>data table notebook</a>'\n",
              "            + ' to learn more about interactive tables.';\n",
              "          element.innerHTML = '';\n",
              "          dataTable['output_type'] = 'display_data';\n",
              "          await google.colab.output.renderOutput(dataTable, element);\n",
              "          const docLink = document.createElement('div');\n",
              "          docLink.innerHTML = docLinkHtml;\n",
              "          element.appendChild(docLink);\n",
              "        }\n",
              "      </script>\n",
              "    </div>\n",
              "  </div>\n",
              "  "
            ]
          },
          "metadata": {},
          "execution_count": 97
        }
      ]
    },
    {
      "cell_type": "code",
      "source": [
        "df.sort_values(by=\"Booking_Date\", inplace=True)"
      ],
      "metadata": {
        "id": "-e3270uj_sz0"
      },
      "execution_count": 98,
      "outputs": []
    },
    {
      "cell_type": "code",
      "source": [
        "df.head()"
      ],
      "metadata": {
        "colab": {
          "base_uri": "https://localhost:8080/",
          "height": 320
        },
        "id": "5JqYc2GzYlwZ",
        "outputId": "08999810-b8c3-48e2-e7b2-f6bc45c7b119"
      },
      "execution_count": 99,
      "outputs": [
        {
          "output_type": "execute_result",
          "data": {
            "text/plain": [
              "     Business Unit Product Family            PLID Fiscal Quarter Fiscal Month  \\\n",
              "6249         SRSBU        A9K1000  A9K1000-ESP100      Q2 FY2013   JAN FY2013   \n",
              "7800       TOASTBU         SFP10G      SFP-10G-LR      Q2 FY2013   JAN FY2013   \n",
              "6279         SRSBU        A9K1000  A9K1000-ESP100      Q3 FY2013   FEB FY2013   \n",
              "7830       TOASTBU         SFP10G      SFP-10G-LR      Q3 FY2013   FEB FY2013   \n",
              "6280         SRSBU        A9K1000  A9K1000-ESP100      Q3 FY2013   MAR FY2013   \n",
              "\n",
              "      Booked_Qty Booking_Date Capacity  \n",
              "6249          63   2013-01-01       XS  \n",
              "7800       18921   2013-01-01       XL  \n",
              "6279          31   2013-02-01       XS  \n",
              "7830       12810   2013-02-01       XL  \n",
              "6280          61   2013-03-01       XS  "
            ],
            "text/html": [
              "\n",
              "  <div id=\"df-99994c7d-daeb-4322-a908-764b750dca33\">\n",
              "    <div class=\"colab-df-container\">\n",
              "      <div>\n",
              "<style scoped>\n",
              "    .dataframe tbody tr th:only-of-type {\n",
              "        vertical-align: middle;\n",
              "    }\n",
              "\n",
              "    .dataframe tbody tr th {\n",
              "        vertical-align: top;\n",
              "    }\n",
              "\n",
              "    .dataframe thead th {\n",
              "        text-align: right;\n",
              "    }\n",
              "</style>\n",
              "<table border=\"1\" class=\"dataframe\">\n",
              "  <thead>\n",
              "    <tr style=\"text-align: right;\">\n",
              "      <th></th>\n",
              "      <th>Business Unit</th>\n",
              "      <th>Product Family</th>\n",
              "      <th>PLID</th>\n",
              "      <th>Fiscal Quarter</th>\n",
              "      <th>Fiscal Month</th>\n",
              "      <th>Booked_Qty</th>\n",
              "      <th>Booking_Date</th>\n",
              "      <th>Capacity</th>\n",
              "    </tr>\n",
              "  </thead>\n",
              "  <tbody>\n",
              "    <tr>\n",
              "      <th>6249</th>\n",
              "      <td>SRSBU</td>\n",
              "      <td>A9K1000</td>\n",
              "      <td>A9K1000-ESP100</td>\n",
              "      <td>Q2 FY2013</td>\n",
              "      <td>JAN FY2013</td>\n",
              "      <td>63</td>\n",
              "      <td>2013-01-01</td>\n",
              "      <td>XS</td>\n",
              "    </tr>\n",
              "    <tr>\n",
              "      <th>7800</th>\n",
              "      <td>TOASTBU</td>\n",
              "      <td>SFP10G</td>\n",
              "      <td>SFP-10G-LR</td>\n",
              "      <td>Q2 FY2013</td>\n",
              "      <td>JAN FY2013</td>\n",
              "      <td>18921</td>\n",
              "      <td>2013-01-01</td>\n",
              "      <td>XL</td>\n",
              "    </tr>\n",
              "    <tr>\n",
              "      <th>6279</th>\n",
              "      <td>SRSBU</td>\n",
              "      <td>A9K1000</td>\n",
              "      <td>A9K1000-ESP100</td>\n",
              "      <td>Q3 FY2013</td>\n",
              "      <td>FEB FY2013</td>\n",
              "      <td>31</td>\n",
              "      <td>2013-02-01</td>\n",
              "      <td>XS</td>\n",
              "    </tr>\n",
              "    <tr>\n",
              "      <th>7830</th>\n",
              "      <td>TOASTBU</td>\n",
              "      <td>SFP10G</td>\n",
              "      <td>SFP-10G-LR</td>\n",
              "      <td>Q3 FY2013</td>\n",
              "      <td>FEB FY2013</td>\n",
              "      <td>12810</td>\n",
              "      <td>2013-02-01</td>\n",
              "      <td>XL</td>\n",
              "    </tr>\n",
              "    <tr>\n",
              "      <th>6280</th>\n",
              "      <td>SRSBU</td>\n",
              "      <td>A9K1000</td>\n",
              "      <td>A9K1000-ESP100</td>\n",
              "      <td>Q3 FY2013</td>\n",
              "      <td>MAR FY2013</td>\n",
              "      <td>61</td>\n",
              "      <td>2013-03-01</td>\n",
              "      <td>XS</td>\n",
              "    </tr>\n",
              "  </tbody>\n",
              "</table>\n",
              "</div>\n",
              "      <button class=\"colab-df-convert\" onclick=\"convertToInteractive('df-99994c7d-daeb-4322-a908-764b750dca33')\"\n",
              "              title=\"Convert this dataframe to an interactive table.\"\n",
              "              style=\"display:none;\">\n",
              "        \n",
              "  <svg xmlns=\"http://www.w3.org/2000/svg\" height=\"24px\"viewBox=\"0 0 24 24\"\n",
              "       width=\"24px\">\n",
              "    <path d=\"M0 0h24v24H0V0z\" fill=\"none\"/>\n",
              "    <path d=\"M18.56 5.44l.94 2.06.94-2.06 2.06-.94-2.06-.94-.94-2.06-.94 2.06-2.06.94zm-11 1L8.5 8.5l.94-2.06 2.06-.94-2.06-.94L8.5 2.5l-.94 2.06-2.06.94zm10 10l.94 2.06.94-2.06 2.06-.94-2.06-.94-.94-2.06-.94 2.06-2.06.94z\"/><path d=\"M17.41 7.96l-1.37-1.37c-.4-.4-.92-.59-1.43-.59-.52 0-1.04.2-1.43.59L10.3 9.45l-7.72 7.72c-.78.78-.78 2.05 0 2.83L4 21.41c.39.39.9.59 1.41.59.51 0 1.02-.2 1.41-.59l7.78-7.78 2.81-2.81c.8-.78.8-2.07 0-2.86zM5.41 20L4 18.59l7.72-7.72 1.47 1.35L5.41 20z\"/>\n",
              "  </svg>\n",
              "      </button>\n",
              "      \n",
              "  <style>\n",
              "    .colab-df-container {\n",
              "      display:flex;\n",
              "      flex-wrap:wrap;\n",
              "      gap: 12px;\n",
              "    }\n",
              "\n",
              "    .colab-df-convert {\n",
              "      background-color: #E8F0FE;\n",
              "      border: none;\n",
              "      border-radius: 50%;\n",
              "      cursor: pointer;\n",
              "      display: none;\n",
              "      fill: #1967D2;\n",
              "      height: 32px;\n",
              "      padding: 0 0 0 0;\n",
              "      width: 32px;\n",
              "    }\n",
              "\n",
              "    .colab-df-convert:hover {\n",
              "      background-color: #E2EBFA;\n",
              "      box-shadow: 0px 1px 2px rgba(60, 64, 67, 0.3), 0px 1px 3px 1px rgba(60, 64, 67, 0.15);\n",
              "      fill: #174EA6;\n",
              "    }\n",
              "\n",
              "    [theme=dark] .colab-df-convert {\n",
              "      background-color: #3B4455;\n",
              "      fill: #D2E3FC;\n",
              "    }\n",
              "\n",
              "    [theme=dark] .colab-df-convert:hover {\n",
              "      background-color: #434B5C;\n",
              "      box-shadow: 0px 1px 3px 1px rgba(0, 0, 0, 0.15);\n",
              "      filter: drop-shadow(0px 1px 2px rgba(0, 0, 0, 0.3));\n",
              "      fill: #FFFFFF;\n",
              "    }\n",
              "  </style>\n",
              "\n",
              "      <script>\n",
              "        const buttonEl =\n",
              "          document.querySelector('#df-99994c7d-daeb-4322-a908-764b750dca33 button.colab-df-convert');\n",
              "        buttonEl.style.display =\n",
              "          google.colab.kernel.accessAllowed ? 'block' : 'none';\n",
              "\n",
              "        async function convertToInteractive(key) {\n",
              "          const element = document.querySelector('#df-99994c7d-daeb-4322-a908-764b750dca33');\n",
              "          const dataTable =\n",
              "            await google.colab.kernel.invokeFunction('convertToInteractive',\n",
              "                                                     [key], {});\n",
              "          if (!dataTable) return;\n",
              "\n",
              "          const docLinkHtml = 'Like what you see? Visit the ' +\n",
              "            '<a target=\"_blank\" href=https://colab.research.google.com/notebooks/data_table.ipynb>data table notebook</a>'\n",
              "            + ' to learn more about interactive tables.';\n",
              "          element.innerHTML = '';\n",
              "          dataTable['output_type'] = 'display_data';\n",
              "          await google.colab.output.renderOutput(dataTable, element);\n",
              "          const docLink = document.createElement('div');\n",
              "          docLink.innerHTML = docLinkHtml;\n",
              "          element.appendChild(docLink);\n",
              "        }\n",
              "      </script>\n",
              "    </div>\n",
              "  </div>\n",
              "  "
            ]
          },
          "metadata": {},
          "execution_count": 99
        }
      ]
    },
    {
      "cell_type": "markdown",
      "source": [
        "## Make a copy of the original DataFrame ##\n",
        "\n",
        "We make a copy of original dataframe so when we manipulate the copy, we still got the original"
      ],
      "metadata": {
        "id": "ojfmrYHGA9vY"
      }
    },
    {
      "cell_type": "code",
      "source": [
        "df_temp = df.copy()"
      ],
      "metadata": {
        "id": "t2xCNv20Ay6V"
      },
      "execution_count": 100,
      "outputs": []
    },
    {
      "cell_type": "code",
      "source": [
        "df_temp.drop('Booked_Qty',axis=1,inplace=True)"
      ],
      "metadata": {
        "id": "UWRb-4Ca990t"
      },
      "execution_count": 136,
      "outputs": []
    },
    {
      "cell_type": "markdown",
      "source": [
        "##Coverting string into categories##\n",
        "One way we can turn all our data into numbers is by coverting them to categories\n",
        "\n",
        "We can check the different datatypes compatible with pandas here: https://pandas.pydata.org/pandas-docs/stable/reference/general_utility_functions.html#data-types-related-functionality"
      ],
      "metadata": {
        "id": "92Z72cGOongc"
      }
    },
    {
      "cell_type": "code",
      "source": [
        "pd.api.types.is_string_dtype(df_temp[\"Business Unit\"])"
      ],
      "metadata": {
        "colab": {
          "base_uri": "https://localhost:8080/"
        },
        "id": "674X4dbCoIeR",
        "outputId": "27676571-1eba-4728-d5a0-447a802e1f24"
      },
      "execution_count": 107,
      "outputs": [
        {
          "output_type": "execute_result",
          "data": {
            "text/plain": [
              "True"
            ]
          },
          "metadata": {},
          "execution_count": 107
        }
      ]
    },
    {
      "cell_type": "code",
      "source": [
        "for label, content in df_temp.items():\n",
        "  if pd.api.types.is_string_dtype(content):\n",
        "    df_temp[label] = content.astype(\"category\").cat.as_ordered()"
      ],
      "metadata": {
        "id": "VuE-sk-_wTYh"
      },
      "execution_count": 108,
      "outputs": []
    },
    {
      "cell_type": "code",
      "source": [
        "df_temp.PLID.cat.codes"
      ],
      "metadata": {
        "colab": {
          "base_uri": "https://localhost:8080/"
        },
        "id": "JYrbzHPTyIMT",
        "outputId": "07cf1ff9-ccd0-4779-b9fd-59bdfd398083"
      },
      "execution_count": 109,
      "outputs": [
        {
          "output_type": "execute_result",
          "data": {
            "text/plain": [
              "6249     21\n",
              "7800    201\n",
              "6279     21\n",
              "7830    201\n",
              "6280     21\n",
              "       ... \n",
              "205     120\n",
              "8705     57\n",
              "7042    247\n",
              "5405    138\n",
              "7570    194\n",
              "Length: 10996, dtype: int16"
            ]
          },
          "metadata": {},
          "execution_count": 109
        }
      ]
    },
    {
      "cell_type": "code",
      "source": [
        "# Check missing data\n",
        "\n",
        "df_temp.isnull().sum()/len(df_temp)"
      ],
      "metadata": {
        "colab": {
          "base_uri": "https://localhost:8080/"
        },
        "id": "RdWarSNmyZjw",
        "outputId": "2442dbd4-9e53-41b7-dea3-50aac7e1e257"
      },
      "execution_count": 110,
      "outputs": [
        {
          "output_type": "execute_result",
          "data": {
            "text/plain": [
              "Business Unit     0.0\n",
              "Product Family    0.0\n",
              "PLID              0.0\n",
              "Fiscal Quarter    0.0\n",
              "Fiscal Month      0.0\n",
              "Booked_Qty        0.0\n",
              "Capacity          0.0\n",
              "saleYear          0.0\n",
              "saleDay           0.0\n",
              "saleDayOfWeek     0.0\n",
              "dtype: float64"
            ]
          },
          "metadata": {},
          "execution_count": 110
        }
      ]
    },
    {
      "cell_type": "markdown",
      "source": [
        "##Turning categorical variables into number##"
      ],
      "metadata": {
        "id": "z8CbGd5YzUo3"
      }
    },
    {
      "cell_type": "code",
      "source": [
        "for label, content in df_temp.items():\n",
        "    if not pd.api.types.is_numeric_dtype(content) and label != 'Capacity':\n",
        "        print(label)"
      ],
      "metadata": {
        "colab": {
          "base_uri": "https://localhost:8080/"
        },
        "id": "-CEYAJQZyx2h",
        "outputId": "17f798fc-ac64-4305-e3fc-d82dd19347a4"
      },
      "execution_count": 111,
      "outputs": [
        {
          "output_type": "stream",
          "name": "stdout",
          "text": [
            "Business Unit\n",
            "Product Family\n",
            "PLID\n",
            "Fiscal Quarter\n"
          ]
        }
      ]
    },
    {
      "cell_type": "code",
      "source": [
        "# Turn categorical variables into numbers and filling missing\n",
        "for label, content in df_temp.items():\n",
        "    if not pd.api.types.is_numeric_dtype(content) and label != 'Capacity':\n",
        "        # Turn categories into numbers and add +1\n",
        "        df_temp[label] = pd.Categorical(content).codes  + 1"
      ],
      "metadata": {
        "id": "hS85bZ8Qzffl"
      },
      "execution_count": 112,
      "outputs": []
    },
    {
      "cell_type": "code",
      "source": [
        "pd.Categorical(df_temp[\"Business Unit\"]).codes+1"
      ],
      "metadata": {
        "colab": {
          "base_uri": "https://localhost:8080/"
        },
        "id": "bJmcjxgAz40y",
        "outputId": "2a91a163-16d4-4238-b123-5138c1f31142"
      },
      "execution_count": 113,
      "outputs": [
        {
          "output_type": "execute_result",
          "data": {
            "text/plain": [
              "array([15, 16, 15, ..., 15,  1, 16], dtype=int8)"
            ]
          },
          "metadata": {},
          "execution_count": 113
        }
      ]
    },
    {
      "cell_type": "code",
      "source": [
        "df_temp.info()"
      ],
      "metadata": {
        "colab": {
          "base_uri": "https://localhost:8080/"
        },
        "id": "qJyQw3IK12FQ",
        "outputId": "f81f28e1-80c6-4fbb-ea3c-6fc3a3c7d4dd"
      },
      "execution_count": 114,
      "outputs": [
        {
          "output_type": "stream",
          "name": "stdout",
          "text": [
            "<class 'pandas.core.frame.DataFrame'>\n",
            "Int64Index: 10996 entries, 6249 to 7570\n",
            "Data columns (total 10 columns):\n",
            " #   Column          Non-Null Count  Dtype   \n",
            "---  ------          --------------  -----   \n",
            " 0   Business Unit   10996 non-null  int8    \n",
            " 1   Product Family  10996 non-null  int8    \n",
            " 2   PLID            10996 non-null  int16   \n",
            " 3   Fiscal Quarter  10996 non-null  int8    \n",
            " 4   Fiscal Month    10996 non-null  int64   \n",
            " 5   Booked_Qty      10996 non-null  int64   \n",
            " 6   Capacity        10996 non-null  category\n",
            " 7   saleYear        10996 non-null  int64   \n",
            " 8   saleDay         10996 non-null  int64   \n",
            " 9   saleDayOfWeek   10996 non-null  int64   \n",
            "dtypes: category(1), int16(1), int64(5), int8(3)\n",
            "memory usage: 580.1 KB\n"
          ]
        }
      ]
    },
    {
      "cell_type": "code",
      "source": [
        "df_temp.head()"
      ],
      "metadata": {
        "colab": {
          "base_uri": "https://localhost:8080/",
          "height": 267
        },
        "id": "SRO4LEIU4_kL",
        "outputId": "e26befd7-8be7-4867-b8fd-85649b583b79"
      },
      "execution_count": 84,
      "outputs": [
        {
          "output_type": "execute_result",
          "data": {
            "text/plain": [
              "      Business Unit  Product Family  PLID  Fiscal Quarter  Fiscal Month  \\\n",
              "6249             15               4    22               1            10   \n",
              "7800             16              61   202               4             5   \n",
              "6279             15               4    22               1            10   \n",
              "7830             16              61   202               4             5   \n",
              "6280             15               4    22               1            10   \n",
              "\n",
              "      Booked_Qty  Capacity  saleYear  saleDay  saleDayOfWeek  \n",
              "6249          63         5      2013        1              1  \n",
              "7800       18921         4      2013        1              1  \n",
              "6279          31         5      2013        1              4  \n",
              "7830       12810         4      2013        1              4  \n",
              "6280          61         5      2013        1              4  "
            ],
            "text/html": [
              "\n",
              "  <div id=\"df-57b414f1-e784-472d-b37a-48a1cdbbdf2d\">\n",
              "    <div class=\"colab-df-container\">\n",
              "      <div>\n",
              "<style scoped>\n",
              "    .dataframe tbody tr th:only-of-type {\n",
              "        vertical-align: middle;\n",
              "    }\n",
              "\n",
              "    .dataframe tbody tr th {\n",
              "        vertical-align: top;\n",
              "    }\n",
              "\n",
              "    .dataframe thead th {\n",
              "        text-align: right;\n",
              "    }\n",
              "</style>\n",
              "<table border=\"1\" class=\"dataframe\">\n",
              "  <thead>\n",
              "    <tr style=\"text-align: right;\">\n",
              "      <th></th>\n",
              "      <th>Business Unit</th>\n",
              "      <th>Product Family</th>\n",
              "      <th>PLID</th>\n",
              "      <th>Fiscal Quarter</th>\n",
              "      <th>Fiscal Month</th>\n",
              "      <th>Booked_Qty</th>\n",
              "      <th>Capacity</th>\n",
              "      <th>saleYear</th>\n",
              "      <th>saleDay</th>\n",
              "      <th>saleDayOfWeek</th>\n",
              "    </tr>\n",
              "  </thead>\n",
              "  <tbody>\n",
              "    <tr>\n",
              "      <th>6249</th>\n",
              "      <td>15</td>\n",
              "      <td>4</td>\n",
              "      <td>22</td>\n",
              "      <td>1</td>\n",
              "      <td>10</td>\n",
              "      <td>63</td>\n",
              "      <td>5</td>\n",
              "      <td>2013</td>\n",
              "      <td>1</td>\n",
              "      <td>1</td>\n",
              "    </tr>\n",
              "    <tr>\n",
              "      <th>7800</th>\n",
              "      <td>16</td>\n",
              "      <td>61</td>\n",
              "      <td>202</td>\n",
              "      <td>4</td>\n",
              "      <td>5</td>\n",
              "      <td>18921</td>\n",
              "      <td>4</td>\n",
              "      <td>2013</td>\n",
              "      <td>1</td>\n",
              "      <td>1</td>\n",
              "    </tr>\n",
              "    <tr>\n",
              "      <th>6279</th>\n",
              "      <td>15</td>\n",
              "      <td>4</td>\n",
              "      <td>22</td>\n",
              "      <td>1</td>\n",
              "      <td>10</td>\n",
              "      <td>31</td>\n",
              "      <td>5</td>\n",
              "      <td>2013</td>\n",
              "      <td>1</td>\n",
              "      <td>4</td>\n",
              "    </tr>\n",
              "    <tr>\n",
              "      <th>7830</th>\n",
              "      <td>16</td>\n",
              "      <td>61</td>\n",
              "      <td>202</td>\n",
              "      <td>4</td>\n",
              "      <td>5</td>\n",
              "      <td>12810</td>\n",
              "      <td>4</td>\n",
              "      <td>2013</td>\n",
              "      <td>1</td>\n",
              "      <td>4</td>\n",
              "    </tr>\n",
              "    <tr>\n",
              "      <th>6280</th>\n",
              "      <td>15</td>\n",
              "      <td>4</td>\n",
              "      <td>22</td>\n",
              "      <td>1</td>\n",
              "      <td>10</td>\n",
              "      <td>61</td>\n",
              "      <td>5</td>\n",
              "      <td>2013</td>\n",
              "      <td>1</td>\n",
              "      <td>4</td>\n",
              "    </tr>\n",
              "  </tbody>\n",
              "</table>\n",
              "</div>\n",
              "      <button class=\"colab-df-convert\" onclick=\"convertToInteractive('df-57b414f1-e784-472d-b37a-48a1cdbbdf2d')\"\n",
              "              title=\"Convert this dataframe to an interactive table.\"\n",
              "              style=\"display:none;\">\n",
              "        \n",
              "  <svg xmlns=\"http://www.w3.org/2000/svg\" height=\"24px\"viewBox=\"0 0 24 24\"\n",
              "       width=\"24px\">\n",
              "    <path d=\"M0 0h24v24H0V0z\" fill=\"none\"/>\n",
              "    <path d=\"M18.56 5.44l.94 2.06.94-2.06 2.06-.94-2.06-.94-.94-2.06-.94 2.06-2.06.94zm-11 1L8.5 8.5l.94-2.06 2.06-.94-2.06-.94L8.5 2.5l-.94 2.06-2.06.94zm10 10l.94 2.06.94-2.06 2.06-.94-2.06-.94-.94-2.06-.94 2.06-2.06.94z\"/><path d=\"M17.41 7.96l-1.37-1.37c-.4-.4-.92-.59-1.43-.59-.52 0-1.04.2-1.43.59L10.3 9.45l-7.72 7.72c-.78.78-.78 2.05 0 2.83L4 21.41c.39.39.9.59 1.41.59.51 0 1.02-.2 1.41-.59l7.78-7.78 2.81-2.81c.8-.78.8-2.07 0-2.86zM5.41 20L4 18.59l7.72-7.72 1.47 1.35L5.41 20z\"/>\n",
              "  </svg>\n",
              "      </button>\n",
              "      \n",
              "  <style>\n",
              "    .colab-df-container {\n",
              "      display:flex;\n",
              "      flex-wrap:wrap;\n",
              "      gap: 12px;\n",
              "    }\n",
              "\n",
              "    .colab-df-convert {\n",
              "      background-color: #E8F0FE;\n",
              "      border: none;\n",
              "      border-radius: 50%;\n",
              "      cursor: pointer;\n",
              "      display: none;\n",
              "      fill: #1967D2;\n",
              "      height: 32px;\n",
              "      padding: 0 0 0 0;\n",
              "      width: 32px;\n",
              "    }\n",
              "\n",
              "    .colab-df-convert:hover {\n",
              "      background-color: #E2EBFA;\n",
              "      box-shadow: 0px 1px 2px rgba(60, 64, 67, 0.3), 0px 1px 3px 1px rgba(60, 64, 67, 0.15);\n",
              "      fill: #174EA6;\n",
              "    }\n",
              "\n",
              "    [theme=dark] .colab-df-convert {\n",
              "      background-color: #3B4455;\n",
              "      fill: #D2E3FC;\n",
              "    }\n",
              "\n",
              "    [theme=dark] .colab-df-convert:hover {\n",
              "      background-color: #434B5C;\n",
              "      box-shadow: 0px 1px 3px 1px rgba(0, 0, 0, 0.15);\n",
              "      filter: drop-shadow(0px 1px 2px rgba(0, 0, 0, 0.3));\n",
              "      fill: #FFFFFF;\n",
              "    }\n",
              "  </style>\n",
              "\n",
              "      <script>\n",
              "        const buttonEl =\n",
              "          document.querySelector('#df-57b414f1-e784-472d-b37a-48a1cdbbdf2d button.colab-df-convert');\n",
              "        buttonEl.style.display =\n",
              "          google.colab.kernel.accessAllowed ? 'block' : 'none';\n",
              "\n",
              "        async function convertToInteractive(key) {\n",
              "          const element = document.querySelector('#df-57b414f1-e784-472d-b37a-48a1cdbbdf2d');\n",
              "          const dataTable =\n",
              "            await google.colab.kernel.invokeFunction('convertToInteractive',\n",
              "                                                     [key], {});\n",
              "          if (!dataTable) return;\n",
              "\n",
              "          const docLinkHtml = 'Like what you see? Visit the ' +\n",
              "            '<a target=\"_blank\" href=https://colab.research.google.com/notebooks/data_table.ipynb>data table notebook</a>'\n",
              "            + ' to learn more about interactive tables.';\n",
              "          element.innerHTML = '';\n",
              "          dataTable['output_type'] = 'display_data';\n",
              "          await google.colab.output.renderOutput(dataTable, element);\n",
              "          const docLink = document.createElement('div');\n",
              "          docLink.innerHTML = docLinkHtml;\n",
              "          element.appendChild(docLink);\n",
              "        }\n",
              "      </script>\n",
              "    </div>\n",
              "  </div>\n",
              "  "
            ]
          },
          "metadata": {},
          "execution_count": 84
        }
      ]
    },
    {
      "cell_type": "code",
      "source": [
        "df_temp.info()"
      ],
      "metadata": {
        "colab": {
          "base_uri": "https://localhost:8080/"
        },
        "id": "vWBACYeS8cWS",
        "outputId": "b27b8de8-f2a9-4f6a-984a-4e610a93a7d3"
      },
      "execution_count": 129,
      "outputs": [
        {
          "output_type": "stream",
          "name": "stdout",
          "text": [
            "<class 'pandas.core.frame.DataFrame'>\n",
            "Int64Index: 10996 entries, 6249 to 7570\n",
            "Data columns (total 10 columns):\n",
            " #   Column          Non-Null Count  Dtype   \n",
            "---  ------          --------------  -----   \n",
            " 0   Business Unit   10996 non-null  int8    \n",
            " 1   Product Family  10996 non-null  int8    \n",
            " 2   PLID            10996 non-null  int16   \n",
            " 3   Fiscal Quarter  10996 non-null  int8    \n",
            " 4   Fiscal Month    10996 non-null  int64   \n",
            " 5   Booked_Qty      10996 non-null  int64   \n",
            " 6   Capacity        10996 non-null  category\n",
            " 7   saleYear        10996 non-null  int64   \n",
            " 8   saleDay         10996 non-null  int64   \n",
            " 9   saleDayOfWeek   10996 non-null  int64   \n",
            "dtypes: category(1), int16(1), int64(5), int8(3)\n",
            "memory usage: 580.1 KB\n"
          ]
        }
      ]
    },
    {
      "cell_type": "code",
      "source": [
        "y = df_temp['Capacity']\n",
        "X = df_temp.drop('Capacity', axis=1)"
      ],
      "metadata": {
        "id": "FEJi9Gk16Www"
      },
      "execution_count": 137,
      "outputs": []
    },
    {
      "cell_type": "code",
      "source": [
        "clf = RandomForestClassifier()"
      ],
      "metadata": {
        "id": "DDiAFKk84nax"
      },
      "execution_count": 142,
      "outputs": []
    },
    {
      "cell_type": "code",
      "source": [
        "X_train, X_test , y_train, y_test = X[:8212],X[8212:],y[:8212],y[8212:]"
      ],
      "metadata": {
        "id": "BTYLoE3C7h12"
      },
      "execution_count": 143,
      "outputs": []
    },
    {
      "cell_type": "code",
      "source": [
        "clf.fit(X_train,y_train)"
      ],
      "metadata": {
        "colab": {
          "base_uri": "https://localhost:8080/"
        },
        "id": "wPQogB8o6UtU",
        "outputId": "77e395f8-b91d-4952-e36b-904bd5c3dd43"
      },
      "execution_count": 144,
      "outputs": [
        {
          "output_type": "execute_result",
          "data": {
            "text/plain": [
              "RandomForestClassifier()"
            ]
          },
          "metadata": {},
          "execution_count": 144
        }
      ]
    },
    {
      "cell_type": "code",
      "source": [
        "clf.score(X_test,y_test)"
      ],
      "metadata": {
        "colab": {
          "base_uri": "https://localhost:8080/"
        },
        "id": "SFy2p7m_7VK1",
        "outputId": "dc373efe-5944-40f6-b091-1dbbcde34966"
      },
      "execution_count": 145,
      "outputs": [
        {
          "output_type": "execute_result",
          "data": {
            "text/plain": [
              "0.6102729885057471"
            ]
          },
          "metadata": {},
          "execution_count": 145
        }
      ]
    },
    {
      "cell_type": "code",
      "source": [
        "df2 = pd.read_csv(\"/content/PLID_Bookings_Problem1.csv\",\n",
        "                 parse_dates=[\"Booking_Date\"],index_col=[\"Booking_Date\"],\n",
        "                  date_parser=dateparse)"
      ],
      "metadata": {
        "id": "uqrLYHDSWKqw"
      },
      "execution_count": 29,
      "outputs": []
    },
    {
      "cell_type": "code",
      "source": [
        "df2.head()"
      ],
      "metadata": {
        "colab": {
          "base_uri": "https://localhost:8080/",
          "height": 237
        },
        "id": "t7vhmw3jWS47",
        "outputId": "af3a8365-ec4e-4499-ed37-72a9b3971006"
      },
      "execution_count": 30,
      "outputs": [
        {
          "output_type": "execute_result",
          "data": {
            "text/plain": [
              "             Business Unit Product Family             PLID Fiscal Quarter  \\\n",
              "Booking_Date                                                                \n",
              "2016-08-01           CSWBU           CBR8  CBR-D121-DS-MOD      Q1 FY2022   \n",
              "2016-10-01           CSWBU           CBR8  CBR-D121-DS-MOD      Q1 FY2022   \n",
              "2016-09-01           CSWBU           CBR8  CBR-D121-DS-MOD      Q1 FY2022   \n",
              "2017-08-01           CSWBU           CBR8  CBR-D121-DS-MOD      Q1 FY2002   \n",
              "2017-10-01           CSWBU           CBR8  CBR-D121-DS-MOD      Q1 FY2002   \n",
              "\n",
              "             Fiscal Month  Booked_Qty  \n",
              "Booking_Date                           \n",
              "2016-08-01     AUG FY2022         204  \n",
              "2016-10-01     OCT FY2022         564  \n",
              "2016-09-01     SEP FY2022        1476  \n",
              "2017-08-01     AUG FY2002         374  \n",
              "2017-10-01     OCT FY2002        6094  "
            ],
            "text/html": [
              "\n",
              "  <div id=\"df-de61ce0c-bc9a-49f5-8007-e451db76468a\">\n",
              "    <div class=\"colab-df-container\">\n",
              "      <div>\n",
              "<style scoped>\n",
              "    .dataframe tbody tr th:only-of-type {\n",
              "        vertical-align: middle;\n",
              "    }\n",
              "\n",
              "    .dataframe tbody tr th {\n",
              "        vertical-align: top;\n",
              "    }\n",
              "\n",
              "    .dataframe thead th {\n",
              "        text-align: right;\n",
              "    }\n",
              "</style>\n",
              "<table border=\"1\" class=\"dataframe\">\n",
              "  <thead>\n",
              "    <tr style=\"text-align: right;\">\n",
              "      <th></th>\n",
              "      <th>Business Unit</th>\n",
              "      <th>Product Family</th>\n",
              "      <th>PLID</th>\n",
              "      <th>Fiscal Quarter</th>\n",
              "      <th>Fiscal Month</th>\n",
              "      <th>Booked_Qty</th>\n",
              "    </tr>\n",
              "    <tr>\n",
              "      <th>Booking_Date</th>\n",
              "      <th></th>\n",
              "      <th></th>\n",
              "      <th></th>\n",
              "      <th></th>\n",
              "      <th></th>\n",
              "      <th></th>\n",
              "    </tr>\n",
              "  </thead>\n",
              "  <tbody>\n",
              "    <tr>\n",
              "      <th>2016-08-01</th>\n",
              "      <td>CSWBU</td>\n",
              "      <td>CBR8</td>\n",
              "      <td>CBR-D121-DS-MOD</td>\n",
              "      <td>Q1 FY2022</td>\n",
              "      <td>AUG FY2022</td>\n",
              "      <td>204</td>\n",
              "    </tr>\n",
              "    <tr>\n",
              "      <th>2016-10-01</th>\n",
              "      <td>CSWBU</td>\n",
              "      <td>CBR8</td>\n",
              "      <td>CBR-D121-DS-MOD</td>\n",
              "      <td>Q1 FY2022</td>\n",
              "      <td>OCT FY2022</td>\n",
              "      <td>564</td>\n",
              "    </tr>\n",
              "    <tr>\n",
              "      <th>2016-09-01</th>\n",
              "      <td>CSWBU</td>\n",
              "      <td>CBR8</td>\n",
              "      <td>CBR-D121-DS-MOD</td>\n",
              "      <td>Q1 FY2022</td>\n",
              "      <td>SEP FY2022</td>\n",
              "      <td>1476</td>\n",
              "    </tr>\n",
              "    <tr>\n",
              "      <th>2017-08-01</th>\n",
              "      <td>CSWBU</td>\n",
              "      <td>CBR8</td>\n",
              "      <td>CBR-D121-DS-MOD</td>\n",
              "      <td>Q1 FY2002</td>\n",
              "      <td>AUG FY2002</td>\n",
              "      <td>374</td>\n",
              "    </tr>\n",
              "    <tr>\n",
              "      <th>2017-10-01</th>\n",
              "      <td>CSWBU</td>\n",
              "      <td>CBR8</td>\n",
              "      <td>CBR-D121-DS-MOD</td>\n",
              "      <td>Q1 FY2002</td>\n",
              "      <td>OCT FY2002</td>\n",
              "      <td>6094</td>\n",
              "    </tr>\n",
              "  </tbody>\n",
              "</table>\n",
              "</div>\n",
              "      <button class=\"colab-df-convert\" onclick=\"convertToInteractive('df-de61ce0c-bc9a-49f5-8007-e451db76468a')\"\n",
              "              title=\"Convert this dataframe to an interactive table.\"\n",
              "              style=\"display:none;\">\n",
              "        \n",
              "  <svg xmlns=\"http://www.w3.org/2000/svg\" height=\"24px\"viewBox=\"0 0 24 24\"\n",
              "       width=\"24px\">\n",
              "    <path d=\"M0 0h24v24H0V0z\" fill=\"none\"/>\n",
              "    <path d=\"M18.56 5.44l.94 2.06.94-2.06 2.06-.94-2.06-.94-.94-2.06-.94 2.06-2.06.94zm-11 1L8.5 8.5l.94-2.06 2.06-.94-2.06-.94L8.5 2.5l-.94 2.06-2.06.94zm10 10l.94 2.06.94-2.06 2.06-.94-2.06-.94-.94-2.06-.94 2.06-2.06.94z\"/><path d=\"M17.41 7.96l-1.37-1.37c-.4-.4-.92-.59-1.43-.59-.52 0-1.04.2-1.43.59L10.3 9.45l-7.72 7.72c-.78.78-.78 2.05 0 2.83L4 21.41c.39.39.9.59 1.41.59.51 0 1.02-.2 1.41-.59l7.78-7.78 2.81-2.81c.8-.78.8-2.07 0-2.86zM5.41 20L4 18.59l7.72-7.72 1.47 1.35L5.41 20z\"/>\n",
              "  </svg>\n",
              "      </button>\n",
              "      \n",
              "  <style>\n",
              "    .colab-df-container {\n",
              "      display:flex;\n",
              "      flex-wrap:wrap;\n",
              "      gap: 12px;\n",
              "    }\n",
              "\n",
              "    .colab-df-convert {\n",
              "      background-color: #E8F0FE;\n",
              "      border: none;\n",
              "      border-radius: 50%;\n",
              "      cursor: pointer;\n",
              "      display: none;\n",
              "      fill: #1967D2;\n",
              "      height: 32px;\n",
              "      padding: 0 0 0 0;\n",
              "      width: 32px;\n",
              "    }\n",
              "\n",
              "    .colab-df-convert:hover {\n",
              "      background-color: #E2EBFA;\n",
              "      box-shadow: 0px 1px 2px rgba(60, 64, 67, 0.3), 0px 1px 3px 1px rgba(60, 64, 67, 0.15);\n",
              "      fill: #174EA6;\n",
              "    }\n",
              "\n",
              "    [theme=dark] .colab-df-convert {\n",
              "      background-color: #3B4455;\n",
              "      fill: #D2E3FC;\n",
              "    }\n",
              "\n",
              "    [theme=dark] .colab-df-convert:hover {\n",
              "      background-color: #434B5C;\n",
              "      box-shadow: 0px 1px 3px 1px rgba(0, 0, 0, 0.15);\n",
              "      filter: drop-shadow(0px 1px 2px rgba(0, 0, 0, 0.3));\n",
              "      fill: #FFFFFF;\n",
              "    }\n",
              "  </style>\n",
              "\n",
              "      <script>\n",
              "        const buttonEl =\n",
              "          document.querySelector('#df-de61ce0c-bc9a-49f5-8007-e451db76468a button.colab-df-convert');\n",
              "        buttonEl.style.display =\n",
              "          google.colab.kernel.accessAllowed ? 'block' : 'none';\n",
              "\n",
              "        async function convertToInteractive(key) {\n",
              "          const element = document.querySelector('#df-de61ce0c-bc9a-49f5-8007-e451db76468a');\n",
              "          const dataTable =\n",
              "            await google.colab.kernel.invokeFunction('convertToInteractive',\n",
              "                                                     [key], {});\n",
              "          if (!dataTable) return;\n",
              "\n",
              "          const docLinkHtml = 'Like what you see? Visit the ' +\n",
              "            '<a target=\"_blank\" href=https://colab.research.google.com/notebooks/data_table.ipynb>data table notebook</a>'\n",
              "            + ' to learn more about interactive tables.';\n",
              "          element.innerHTML = '';\n",
              "          dataTable['output_type'] = 'display_data';\n",
              "          await google.colab.output.renderOutput(dataTable, element);\n",
              "          const docLink = document.createElement('div');\n",
              "          docLink.innerHTML = docLinkHtml;\n",
              "          element.appendChild(docLink);\n",
              "        }\n",
              "      </script>\n",
              "    </div>\n",
              "  </div>\n",
              "  "
            ]
          },
          "metadata": {},
          "execution_count": 30
        }
      ]
    },
    {
      "cell_type": "code",
      "source": [
        "ts = df2[['Booked_Qty']]"
      ],
      "metadata": {
        "id": "wdQ3eyqGVeXd"
      },
      "execution_count": 31,
      "outputs": []
    },
    {
      "cell_type": "code",
      "source": [
        "ts.head()"
      ],
      "metadata": {
        "colab": {
          "base_uri": "https://localhost:8080/",
          "height": 237
        },
        "id": "Iv9EKnFbV86N",
        "outputId": "e2d565fc-a658-49c8-9e8a-99e4beff167e"
      },
      "execution_count": 32,
      "outputs": [
        {
          "output_type": "execute_result",
          "data": {
            "text/plain": [
              "              Booked_Qty\n",
              "Booking_Date            \n",
              "2016-08-01           204\n",
              "2016-10-01           564\n",
              "2016-09-01          1476\n",
              "2017-08-01           374\n",
              "2017-10-01          6094"
            ],
            "text/html": [
              "\n",
              "  <div id=\"df-e45f6b69-3086-413b-8c48-b30b8dfa8035\">\n",
              "    <div class=\"colab-df-container\">\n",
              "      <div>\n",
              "<style scoped>\n",
              "    .dataframe tbody tr th:only-of-type {\n",
              "        vertical-align: middle;\n",
              "    }\n",
              "\n",
              "    .dataframe tbody tr th {\n",
              "        vertical-align: top;\n",
              "    }\n",
              "\n",
              "    .dataframe thead th {\n",
              "        text-align: right;\n",
              "    }\n",
              "</style>\n",
              "<table border=\"1\" class=\"dataframe\">\n",
              "  <thead>\n",
              "    <tr style=\"text-align: right;\">\n",
              "      <th></th>\n",
              "      <th>Booked_Qty</th>\n",
              "    </tr>\n",
              "    <tr>\n",
              "      <th>Booking_Date</th>\n",
              "      <th></th>\n",
              "    </tr>\n",
              "  </thead>\n",
              "  <tbody>\n",
              "    <tr>\n",
              "      <th>2016-08-01</th>\n",
              "      <td>204</td>\n",
              "    </tr>\n",
              "    <tr>\n",
              "      <th>2016-10-01</th>\n",
              "      <td>564</td>\n",
              "    </tr>\n",
              "    <tr>\n",
              "      <th>2016-09-01</th>\n",
              "      <td>1476</td>\n",
              "    </tr>\n",
              "    <tr>\n",
              "      <th>2017-08-01</th>\n",
              "      <td>374</td>\n",
              "    </tr>\n",
              "    <tr>\n",
              "      <th>2017-10-01</th>\n",
              "      <td>6094</td>\n",
              "    </tr>\n",
              "  </tbody>\n",
              "</table>\n",
              "</div>\n",
              "      <button class=\"colab-df-convert\" onclick=\"convertToInteractive('df-e45f6b69-3086-413b-8c48-b30b8dfa8035')\"\n",
              "              title=\"Convert this dataframe to an interactive table.\"\n",
              "              style=\"display:none;\">\n",
              "        \n",
              "  <svg xmlns=\"http://www.w3.org/2000/svg\" height=\"24px\"viewBox=\"0 0 24 24\"\n",
              "       width=\"24px\">\n",
              "    <path d=\"M0 0h24v24H0V0z\" fill=\"none\"/>\n",
              "    <path d=\"M18.56 5.44l.94 2.06.94-2.06 2.06-.94-2.06-.94-.94-2.06-.94 2.06-2.06.94zm-11 1L8.5 8.5l.94-2.06 2.06-.94-2.06-.94L8.5 2.5l-.94 2.06-2.06.94zm10 10l.94 2.06.94-2.06 2.06-.94-2.06-.94-.94-2.06-.94 2.06-2.06.94z\"/><path d=\"M17.41 7.96l-1.37-1.37c-.4-.4-.92-.59-1.43-.59-.52 0-1.04.2-1.43.59L10.3 9.45l-7.72 7.72c-.78.78-.78 2.05 0 2.83L4 21.41c.39.39.9.59 1.41.59.51 0 1.02-.2 1.41-.59l7.78-7.78 2.81-2.81c.8-.78.8-2.07 0-2.86zM5.41 20L4 18.59l7.72-7.72 1.47 1.35L5.41 20z\"/>\n",
              "  </svg>\n",
              "      </button>\n",
              "      \n",
              "  <style>\n",
              "    .colab-df-container {\n",
              "      display:flex;\n",
              "      flex-wrap:wrap;\n",
              "      gap: 12px;\n",
              "    }\n",
              "\n",
              "    .colab-df-convert {\n",
              "      background-color: #E8F0FE;\n",
              "      border: none;\n",
              "      border-radius: 50%;\n",
              "      cursor: pointer;\n",
              "      display: none;\n",
              "      fill: #1967D2;\n",
              "      height: 32px;\n",
              "      padding: 0 0 0 0;\n",
              "      width: 32px;\n",
              "    }\n",
              "\n",
              "    .colab-df-convert:hover {\n",
              "      background-color: #E2EBFA;\n",
              "      box-shadow: 0px 1px 2px rgba(60, 64, 67, 0.3), 0px 1px 3px 1px rgba(60, 64, 67, 0.15);\n",
              "      fill: #174EA6;\n",
              "    }\n",
              "\n",
              "    [theme=dark] .colab-df-convert {\n",
              "      background-color: #3B4455;\n",
              "      fill: #D2E3FC;\n",
              "    }\n",
              "\n",
              "    [theme=dark] .colab-df-convert:hover {\n",
              "      background-color: #434B5C;\n",
              "      box-shadow: 0px 1px 3px 1px rgba(0, 0, 0, 0.15);\n",
              "      filter: drop-shadow(0px 1px 2px rgba(0, 0, 0, 0.3));\n",
              "      fill: #FFFFFF;\n",
              "    }\n",
              "  </style>\n",
              "\n",
              "      <script>\n",
              "        const buttonEl =\n",
              "          document.querySelector('#df-e45f6b69-3086-413b-8c48-b30b8dfa8035 button.colab-df-convert');\n",
              "        buttonEl.style.display =\n",
              "          google.colab.kernel.accessAllowed ? 'block' : 'none';\n",
              "\n",
              "        async function convertToInteractive(key) {\n",
              "          const element = document.querySelector('#df-e45f6b69-3086-413b-8c48-b30b8dfa8035');\n",
              "          const dataTable =\n",
              "            await google.colab.kernel.invokeFunction('convertToInteractive',\n",
              "                                                     [key], {});\n",
              "          if (!dataTable) return;\n",
              "\n",
              "          const docLinkHtml = 'Like what you see? Visit the ' +\n",
              "            '<a target=\"_blank\" href=https://colab.research.google.com/notebooks/data_table.ipynb>data table notebook</a>'\n",
              "            + ' to learn more about interactive tables.';\n",
              "          element.innerHTML = '';\n",
              "          dataTable['output_type'] = 'display_data';\n",
              "          await google.colab.output.renderOutput(dataTable, element);\n",
              "          const docLink = document.createElement('div');\n",
              "          docLink.innerHTML = docLinkHtml;\n",
              "          element.appendChild(docLink);\n",
              "        }\n",
              "      </script>\n",
              "    </div>\n",
              "  </div>\n",
              "  "
            ]
          },
          "metadata": {},
          "execution_count": 32
        }
      ]
    },
    {
      "cell_type": "code",
      "source": [
        "ts.sort_index(ascending=True, inplace=True)"
      ],
      "metadata": {
        "id": "hKldfr9UaXan"
      },
      "execution_count": 33,
      "outputs": []
    },
    {
      "cell_type": "code",
      "source": [
        "ts.head()"
      ],
      "metadata": {
        "colab": {
          "base_uri": "https://localhost:8080/",
          "height": 237
        },
        "id": "46j9e_PrbjQM",
        "outputId": "a14465e3-0c80-481a-a129-e69308968891"
      },
      "execution_count": 34,
      "outputs": [
        {
          "output_type": "execute_result",
          "data": {
            "text/plain": [
              "              Booked_Qty\n",
              "Booking_Date            \n",
              "2013-01-01            63\n",
              "2013-01-01         18921\n",
              "2013-02-01            31\n",
              "2013-02-01         12810\n",
              "2013-03-01            61"
            ],
            "text/html": [
              "\n",
              "  <div id=\"df-016528ed-2251-4f24-99e1-8a4edf59716e\">\n",
              "    <div class=\"colab-df-container\">\n",
              "      <div>\n",
              "<style scoped>\n",
              "    .dataframe tbody tr th:only-of-type {\n",
              "        vertical-align: middle;\n",
              "    }\n",
              "\n",
              "    .dataframe tbody tr th {\n",
              "        vertical-align: top;\n",
              "    }\n",
              "\n",
              "    .dataframe thead th {\n",
              "        text-align: right;\n",
              "    }\n",
              "</style>\n",
              "<table border=\"1\" class=\"dataframe\">\n",
              "  <thead>\n",
              "    <tr style=\"text-align: right;\">\n",
              "      <th></th>\n",
              "      <th>Booked_Qty</th>\n",
              "    </tr>\n",
              "    <tr>\n",
              "      <th>Booking_Date</th>\n",
              "      <th></th>\n",
              "    </tr>\n",
              "  </thead>\n",
              "  <tbody>\n",
              "    <tr>\n",
              "      <th>2013-01-01</th>\n",
              "      <td>63</td>\n",
              "    </tr>\n",
              "    <tr>\n",
              "      <th>2013-01-01</th>\n",
              "      <td>18921</td>\n",
              "    </tr>\n",
              "    <tr>\n",
              "      <th>2013-02-01</th>\n",
              "      <td>31</td>\n",
              "    </tr>\n",
              "    <tr>\n",
              "      <th>2013-02-01</th>\n",
              "      <td>12810</td>\n",
              "    </tr>\n",
              "    <tr>\n",
              "      <th>2013-03-01</th>\n",
              "      <td>61</td>\n",
              "    </tr>\n",
              "  </tbody>\n",
              "</table>\n",
              "</div>\n",
              "      <button class=\"colab-df-convert\" onclick=\"convertToInteractive('df-016528ed-2251-4f24-99e1-8a4edf59716e')\"\n",
              "              title=\"Convert this dataframe to an interactive table.\"\n",
              "              style=\"display:none;\">\n",
              "        \n",
              "  <svg xmlns=\"http://www.w3.org/2000/svg\" height=\"24px\"viewBox=\"0 0 24 24\"\n",
              "       width=\"24px\">\n",
              "    <path d=\"M0 0h24v24H0V0z\" fill=\"none\"/>\n",
              "    <path d=\"M18.56 5.44l.94 2.06.94-2.06 2.06-.94-2.06-.94-.94-2.06-.94 2.06-2.06.94zm-11 1L8.5 8.5l.94-2.06 2.06-.94-2.06-.94L8.5 2.5l-.94 2.06-2.06.94zm10 10l.94 2.06.94-2.06 2.06-.94-2.06-.94-.94-2.06-.94 2.06-2.06.94z\"/><path d=\"M17.41 7.96l-1.37-1.37c-.4-.4-.92-.59-1.43-.59-.52 0-1.04.2-1.43.59L10.3 9.45l-7.72 7.72c-.78.78-.78 2.05 0 2.83L4 21.41c.39.39.9.59 1.41.59.51 0 1.02-.2 1.41-.59l7.78-7.78 2.81-2.81c.8-.78.8-2.07 0-2.86zM5.41 20L4 18.59l7.72-7.72 1.47 1.35L5.41 20z\"/>\n",
              "  </svg>\n",
              "      </button>\n",
              "      \n",
              "  <style>\n",
              "    .colab-df-container {\n",
              "      display:flex;\n",
              "      flex-wrap:wrap;\n",
              "      gap: 12px;\n",
              "    }\n",
              "\n",
              "    .colab-df-convert {\n",
              "      background-color: #E8F0FE;\n",
              "      border: none;\n",
              "      border-radius: 50%;\n",
              "      cursor: pointer;\n",
              "      display: none;\n",
              "      fill: #1967D2;\n",
              "      height: 32px;\n",
              "      padding: 0 0 0 0;\n",
              "      width: 32px;\n",
              "    }\n",
              "\n",
              "    .colab-df-convert:hover {\n",
              "      background-color: #E2EBFA;\n",
              "      box-shadow: 0px 1px 2px rgba(60, 64, 67, 0.3), 0px 1px 3px 1px rgba(60, 64, 67, 0.15);\n",
              "      fill: #174EA6;\n",
              "    }\n",
              "\n",
              "    [theme=dark] .colab-df-convert {\n",
              "      background-color: #3B4455;\n",
              "      fill: #D2E3FC;\n",
              "    }\n",
              "\n",
              "    [theme=dark] .colab-df-convert:hover {\n",
              "      background-color: #434B5C;\n",
              "      box-shadow: 0px 1px 3px 1px rgba(0, 0, 0, 0.15);\n",
              "      filter: drop-shadow(0px 1px 2px rgba(0, 0, 0, 0.3));\n",
              "      fill: #FFFFFF;\n",
              "    }\n",
              "  </style>\n",
              "\n",
              "      <script>\n",
              "        const buttonEl =\n",
              "          document.querySelector('#df-016528ed-2251-4f24-99e1-8a4edf59716e button.colab-df-convert');\n",
              "        buttonEl.style.display =\n",
              "          google.colab.kernel.accessAllowed ? 'block' : 'none';\n",
              "\n",
              "        async function convertToInteractive(key) {\n",
              "          const element = document.querySelector('#df-016528ed-2251-4f24-99e1-8a4edf59716e');\n",
              "          const dataTable =\n",
              "            await google.colab.kernel.invokeFunction('convertToInteractive',\n",
              "                                                     [key], {});\n",
              "          if (!dataTable) return;\n",
              "\n",
              "          const docLinkHtml = 'Like what you see? Visit the ' +\n",
              "            '<a target=\"_blank\" href=https://colab.research.google.com/notebooks/data_table.ipynb>data table notebook</a>'\n",
              "            + ' to learn more about interactive tables.';\n",
              "          element.innerHTML = '';\n",
              "          dataTable['output_type'] = 'display_data';\n",
              "          await google.colab.output.renderOutput(dataTable, element);\n",
              "          const docLink = document.createElement('div');\n",
              "          docLink.innerHTML = docLinkHtml;\n",
              "          element.appendChild(docLink);\n",
              "        }\n",
              "      </script>\n",
              "    </div>\n",
              "  </div>\n",
              "  "
            ]
          },
          "metadata": {},
          "execution_count": 34
        }
      ]
    },
    {
      "cell_type": "code",
      "source": [
        "ts_1 = ts['Booked_Qty'].resample('MS').sum()"
      ],
      "metadata": {
        "id": "WN0TWItTXaWO"
      },
      "execution_count": 35,
      "outputs": []
    },
    {
      "cell_type": "code",
      "source": [
        "ts_1"
      ],
      "metadata": {
        "colab": {
          "base_uri": "https://localhost:8080/"
        },
        "id": "p374qvv_c1m_",
        "outputId": "dab30937-ef57-426d-9666-b8c4ac3609bb"
      },
      "execution_count": 36,
      "outputs": [
        {
          "output_type": "execute_result",
          "data": {
            "text/plain": [
              "Booking_Date\n",
              "2013-01-01      18984\n",
              "2013-02-01      12841\n",
              "2013-03-01      14130\n",
              "2013-04-01      36287\n",
              "2013-05-01      13668\n",
              "               ...   \n",
              "2022-08-01    1187994\n",
              "2022-09-01    1467681\n",
              "2022-10-01    2696991\n",
              "2022-11-01    1691772\n",
              "2022-12-01    1480708\n",
              "Freq: MS, Name: Booked_Qty, Length: 120, dtype: int64"
            ]
          },
          "metadata": {},
          "execution_count": 36
        }
      ]
    },
    {
      "cell_type": "code",
      "source": [
        "ts_1.plot()"
      ],
      "metadata": {
        "colab": {
          "base_uri": "https://localhost:8080/",
          "height": 308
        },
        "id": "YOfHoR2-Ybts",
        "outputId": "c9450d78-2786-41a8-d574-3580faeda61d"
      },
      "execution_count": 37,
      "outputs": [
        {
          "output_type": "execute_result",
          "data": {
            "text/plain": [
              "<matplotlib.axes._subplots.AxesSubplot at 0x7f8590e330d0>"
            ]
          },
          "metadata": {},
          "execution_count": 37
        },
        {
          "output_type": "display_data",
          "data": {
            "text/plain": [
              "<Figure size 432x288 with 1 Axes>"
            ],
            "image/png": "[encoded data removed]"
          },
          "metadata": {
            "needs_background": "light"
          }
        }
      ]
    },
    {
      "cell_type": "code",
      "source": [
        "import statsmodels.api as sm"
      ],
      "metadata": {
        "id": "_T8KNf5MYsvN"
      },
      "execution_count": 38,
      "outputs": []
    },
    {
      "cell_type": "code",
      "source": [
        "decomposition = sm.tsa.seasonal_decompose(ts_1, model='additive')\n",
        "fig = decomposition.plot()\n",
        "plt.show()"
      ],
      "metadata": {
        "colab": {
          "base_uri": "https://localhost:8080/",
          "height": 297
        },
        "id": "sTZgbQ-DZDhb",
        "outputId": "51195c5b-4f4a-4f88-b672-9da1a8895c7a"
      },
      "execution_count": 39,
      "outputs": [
        {
          "output_type": "display_data",
          "data": {
            "text/plain": [
              "<Figure size 432x288 with 4 Axes>"
            ],
            "image/png": "[encoded data removed]"
          },
          "metadata": {
            "needs_background": "light"
          }
        }
      ]
    },
    {
      "cell_type": "markdown",
      "source": [
        "# Adfuller test"
      ],
      "metadata": {
        "id": "8bFamUEpa47Y"
      }
    },
    {
      "cell_type": "code",
      "source": [
        "from statsmodels.tsa.stattools import adfuller"
      ],
      "metadata": {
        "id": "1dm-MlLYaNdF"
      },
      "execution_count": 40,
      "outputs": []
    },
    {
      "cell_type": "code",
      "source": [
        "adftest = adfuller(ts_1)"
      ],
      "metadata": {
        "id": "xkOpfBYTaj6q"
      },
      "execution_count": 41,
      "outputs": []
    },
    {
      "cell_type": "code",
      "source": [
        "print('pvalue of adfuller test is: ', adftest[1])"
      ],
      "metadata": {
        "colab": {
          "base_uri": "https://localhost:8080/"
        },
        "id": "q9-DOI1QaptF",
        "outputId": "e51648ab-93b1-4085-91a9-448c47559ffb"
      },
      "execution_count": 42,
      "outputs": [
        {
          "output_type": "stream",
          "name": "stdout",
          "text": [
            "pvalue of adfuller test is:  0.48206331678127334\n"
          ]
        }
      ]
    },
    {
      "cell_type": "code",
      "source": [
        "from statsmodels.graphics.tsaplots import plot_acf, plot_pacf"
      ],
      "metadata": {
        "id": "kwAHl3IVlZER"
      },
      "execution_count": 43,
      "outputs": []
    },
    {
      "cell_type": "code",
      "source": [
        "fig, (ax1,ax2) = plt.subplots(1, 2, figsize=(16,4))\n",
        "\n",
        "ax1.plot(ts_1)\n",
        "ax1.set_title(\"Original\")\n",
        "\n",
        "plot_acf(ts_1, ax=ax2);"
      ],
      "metadata": {
        "colab": {
          "base_uri": "https://localhost:8080/",
          "height": 260
        },
        "id": "ic3ZX1bom3Ue",
        "outputId": "0e895a7f-fa2c-4579-acdd-20a04db75ce0"
      },
      "execution_count": 44,
      "outputs": [
        {
          "output_type": "display_data",
          "data": {
            "text/plain": [
              "<Figure size 1152x288 with 2 Axes>"
            ],
            "image/png": "[encoded data removed]"
          },
          "metadata": {
            "needs_background": "light"
          }
        }
      ]
    },
    {
      "cell_type": "code",
      "source": [
        "diff = ts_1.diff().dropna()\n",
        "fig, (ax1,ax2) = plt.subplots(1, 2, figsize=(16,4))\n",
        "\n",
        "ax1.plot(diff)\n",
        "ax1.set_title(\"diff once\")\n",
        "\n",
        "plot_acf(ts_1, ax=ax2);"
      ],
      "metadata": {
        "colab": {
          "base_uri": "https://localhost:8080/",
          "height": 258
        },
        "id": "wjdM1BzHayNa",
        "outputId": "dbc937a6-677c-4aa1-e66e-9fef6d4aebba"
      },
      "execution_count": 45,
      "outputs": [
        {
          "output_type": "display_data",
          "data": {
            "text/plain": [
              "<Figure size 1152x288 with 2 Axes>"
            ],
            "image/png": "[encoded data removed]"
          },
          "metadata": {
            "needs_background": "light"
          }
        }
      ]
    },
    {
      "cell_type": "code",
      "source": [
        "from pmdarima.arima.utils import ndiffs"
      ],
      "metadata": {
        "id": "fDolzkbJqPxW"
      },
      "execution_count": 46,
      "outputs": []
    },
    {
      "cell_type": "code",
      "source": [
        "ndiffs(ts_1, test='adf')"
      ],
      "metadata": {
        "colab": {
          "base_uri": "https://localhost:8080/"
        },
        "id": "ONYpxpVrxWOH",
        "outputId": "12cfe876-80bf-4c2d-885d-bee4071a9a4e"
      },
      "execution_count": 47,
      "outputs": [
        {
          "output_type": "execute_result",
          "data": {
            "text/plain": [
              "0"
            ]
          },
          "metadata": {},
          "execution_count": 47
        }
      ]
    },
    {
      "cell_type": "code",
      "source": [
        "diff = ts_1.dropna()\n",
        "fig, (ax1,ax2) = plt.subplots(1, 2, figsize=(16,4))\n",
        "\n",
        "ax1.plot(ts_1)\n",
        "ax1.set_title(\"Original\")\n",
        "\n",
        "plot_pacf(ts_1, ax=ax2);"
      ],
      "metadata": {
        "colab": {
          "base_uri": "https://localhost:8080/",
          "height": 260
        },
        "id": "28me9z5Gqp5a",
        "outputId": "119e9284-1cb0-4c75-e65a-f3c2cae71eb6"
      },
      "execution_count": 48,
      "outputs": [
        {
          "output_type": "display_data",
          "data": {
            "text/plain": [
              "<Figure size 1152x288 with 2 Axes>"
            ],
            "image/png": "[encoded data removed]"
          },
          "metadata": {
            "needs_background": "light"
          }
        }
      ]
    },
    {
      "cell_type": "code",
      "source": [
        "1, 2, 3, 6,9, 15"
      ],
      "metadata": {
        "colab": {
          "base_uri": "https://localhost:8080/"
        },
        "id": "5EH0o1_mrEnk",
        "outputId": "0c024233-dd48-4234-b651-6963ae4409df"
      },
      "execution_count": 49,
      "outputs": [
        {
          "output_type": "execute_result",
          "data": {
            "text/plain": [
              "(1, 2, 3, 6, 9, 15)"
            ]
          },
          "metadata": {},
          "execution_count": 49
        }
      ]
    },
    {
      "cell_type": "code",
      "source": [
        "diff = ts_1.diff().dropna()\n",
        "fig, (ax1,ax2) = plt.subplots(1, 2, figsize=(16,4))\n",
        "\n",
        "ax1.plot(diff)\n",
        "ax1.set_title(\"Original\")\n",
        "\n",
        "plot_acf(ts_1, ax=ax2);"
      ],
      "metadata": {
        "colab": {
          "base_uri": "https://localhost:8080/",
          "height": 258
        },
        "id": "ttfRw_BSrjz3",
        "outputId": "0a3e0f4f-bd9b-480f-afbf-4a955975a310"
      },
      "execution_count": 50,
      "outputs": [
        {
          "output_type": "display_data",
          "data": {
            "text/plain": [
              "<Figure size 1152x288 with 2 Axes>"
            ],
            "image/png": "[encoded data removed]"
          },
          "metadata": {
            "needs_background": "light"
          }
        }
      ]
    },
    {
      "cell_type": "code",
      "source": [
        "1,2,3,4"
      ],
      "metadata": {
        "colab": {
          "base_uri": "https://localhost:8080/"
        },
        "id": "GyIlOR16r970",
        "outputId": "04ad2e29-e994-44de-88ae-5bf4796bdfd2"
      },
      "execution_count": 51,
      "outputs": [
        {
          "output_type": "execute_result",
          "data": {
            "text/plain": [
              "(1, 2, 3, 4)"
            ]
          },
          "metadata": {},
          "execution_count": 51
        }
      ]
    },
    {
      "cell_type": "code",
      "source": [
        "train = ts_1[:84] \n",
        "test = ts_1[84:]"
      ],
      "metadata": {
        "id": "9yu5aKAobDoe"
      },
      "execution_count": 52,
      "outputs": []
    },
    {
      "cell_type": "code",
      "source": [
        "import itertools"
      ],
      "metadata": {
        "id": "Ts4DrWVkbM31"
      },
      "execution_count": 53,
      "outputs": []
    },
    {
      "cell_type": "code",
      "source": [
        "p = 15\n",
        "q = range(0,10)\n",
        "d = range(0,2)"
      ],
      "metadata": {
        "id": "utuapRqHeUw4"
      },
      "execution_count": 54,
      "outputs": []
    },
    {
      "cell_type": "code",
      "source": [
        "pdq_combination = list(itertools.product(d,q))"
      ],
      "metadata": {
        "id": "pUqFHITqef4e"
      },
      "execution_count": 55,
      "outputs": []
    },
    {
      "cell_type": "code",
      "source": [
        "from statsmodels.tsa.arima.model import ARIMA"
      ],
      "metadata": {
        "id": "f1kx_rupfDhG"
      },
      "execution_count": 56,
      "outputs": []
    },
    {
      "cell_type": "code",
      "source": [
        "from sklearn.metrics import mean_squared_error"
      ],
      "metadata": {
        "id": "Xi9lNPAKf1RH"
      },
      "execution_count": 57,
      "outputs": []
    },
    {
      "cell_type": "code",
      "source": [
        "order1 = []\n",
        "rsme = []"
      ],
      "metadata": {
        "id": "RDrHkPyxgM65"
      },
      "execution_count": 58,
      "outputs": []
    },
    {
      "cell_type": "code",
      "source": [
        "import warnings\n",
        "warnings.filterwarnings('ignore')"
      ],
      "metadata": {
        "id": "bjDPXwC9iskH"
      },
      "execution_count": 59,
      "outputs": []
    },
    {
      "cell_type": "code",
      "source": [
        "for pdq in pdq_combination:\n",
        "  model = ARIMA(train,order=(15,pdq[0],pdq[1])).fit()\n",
        "  pred = model.predict(start=len(train),end=len(ts_1)-1)\n",
        "  error = np.sqrt(mean_squared_error(test,pred))\n",
        "  order1.append(pdq)\n",
        "  rsme.append(error)"
      ],
      "metadata": {
        "id": "KiIe1DCBAq1o"
      },
      "execution_count": 60,
      "outputs": []
    },
    {
      "cell_type": "code",
      "source": [
        "results = pd.DataFrame(index=order1, data=rsme, columns=[\"RSME\"])"
      ],
      "metadata": {
        "id": "7Nx9_bXSgkVY"
      },
      "execution_count": 61,
      "outputs": []
    },
    {
      "cell_type": "code",
      "source": [
        "results.to_csv(\"ARIMA_result.csv\")"
      ],
      "metadata": {
        "id": "3luRwEPPhF0A"
      },
      "execution_count": 62,
      "outputs": []
    },
    {
      "cell_type": "code",
      "source": [
        "train.plot()"
      ],
      "metadata": {
        "colab": {
          "base_uri": "https://localhost:8080/",
          "height": 308
        },
        "id": "2P0p5pn0DmZc",
        "outputId": "bf14984c-98e5-47c5-d7e2-1293af85cb92"
      },
      "execution_count": 63,
      "outputs": [
        {
          "output_type": "execute_result",
          "data": {
            "text/plain": [
              "<matplotlib.axes._subplots.AxesSubplot at 0x7f858623f280>"
            ]
          },
          "metadata": {},
          "execution_count": 63
        },
        {
          "output_type": "display_data",
          "data": {
            "text/plain": [
              "<Figure size 432x288 with 1 Axes>"
            ],
            "image/png": "[encoded data removed]"
          },
          "metadata": {
            "needs_background": "light"
          }
        }
      ]
    },
    {
      "cell_type": "code",
      "source": [
        "model = ARIMA(train, order = (15,0,8)).fit()"
      ],
      "metadata": {
        "id": "Q5rXerLChmPH"
      },
      "execution_count": 64,
      "outputs": []
    },
    {
      "cell_type": "code",
      "source": [
        "pred = model.predict(start=len(train),end=len(ts_1)-1)"
      ],
      "metadata": {
        "id": "m2F8diANiqPr"
      },
      "execution_count": 65,
      "outputs": []
    },
    {
      "cell_type": "code",
      "source": [
        "error = np.sqrt(mean_squared_error(test,pred))\n",
        "error"
      ],
      "metadata": {
        "colab": {
          "base_uri": "https://localhost:8080/"
        },
        "id": "rKdpOzJDi9ed",
        "outputId": "d635704d-715f-4492-e2d9-36c995b9c990"
      },
      "execution_count": 66,
      "outputs": [
        {
          "output_type": "execute_result",
          "data": {
            "text/plain": [
              "602283.9449884517"
            ]
          },
          "metadata": {},
          "execution_count": 66
        }
      ]
    },
    {
      "cell_type": "code",
      "source": [
        "test.mean(), np.sqrt(test.var())"
      ],
      "metadata": {
        "colab": {
          "base_uri": "https://localhost:8080/"
        },
        "id": "3bDO0xxijxi-",
        "outputId": "ce9651ab-959e-4eca-a2de-517726cea08b"
      },
      "execution_count": 67,
      "outputs": [
        {
          "output_type": "execute_result",
          "data": {
            "text/plain": [
              "(1080790.5833333333, 689147.6779171864)"
            ]
          },
          "metadata": {},
          "execution_count": 67
        }
      ]
    },
    {
      "cell_type": "code",
      "source": [
        "train.plot(legend=True, label='Train', figsize=(10,6))\n",
        "test.plot(legend=True, label='Test')\n",
        "pred.plot(legend=True, label='predictionARIMA');"
      ],
      "metadata": {
        "colab": {
          "base_uri": "https://localhost:8080/",
          "height": 400
        },
        "id": "y20P1R_9kTGI",
        "outputId": "a09450b4-fa02-400d-bd0e-17d2f1e5fabc"
      },
      "execution_count": 68,
      "outputs": [
        {
          "output_type": "display_data",
          "data": {
            "text/plain": [
              "<Figure size 720x432 with 1 Axes>"
            ],
            "image/png": "[encoded data removed]"
          },
          "metadata": {
            "needs_background": "light"
          }
        }
      ]
    },
    {
      "cell_type": "code",
      "source": [
        "final_model = ARIMA(ts_1, order = (15, 0, 8)).fit()"
      ],
      "metadata": {
        "id": "AUwgu2Z4ldPL"
      },
      "execution_count": 69,
      "outputs": []
    },
    {
      "cell_type": "code",
      "source": [
        "prediction = final_model.predict(len(ts_1), len(ts_1)+12)"
      ],
      "metadata": {
        "id": "9boKAYsAk4Ya"
      },
      "execution_count": 70,
      "outputs": []
    },
    {
      "cell_type": "code",
      "source": [
        "ts_1.plot(legend=True, label='Train',figsize=(10,6))\n",
        "prediction.plot(legend=True,label='prediction');"
      ],
      "metadata": {
        "colab": {
          "base_uri": "https://localhost:8080/",
          "height": 400
        },
        "id": "L36e9U5vly7a",
        "outputId": "a10705ad-fb1d-48ab-f64c-dcb8655fd307"
      },
      "execution_count": 71,
      "outputs": [
        {
          "output_type": "display_data",
          "data": {
            "text/plain": [
              "<Figure size 720x432 with 1 Axes>"
            ],
            "image/png": "[encoded data removed]"
          },
          "metadata": {
            "needs_background": "light"
          }
        }
      ]
    },
    {
      "cell_type": "code",
      "source": [
        "prediction"
      ],
      "metadata": {
        "colab": {
          "base_uri": "https://localhost:8080/"
        },
        "id": "BJssEY3kdwG0",
        "outputId": "e1aee0cd-dcca-4641-930b-62a4ee9ccd9b"
      },
      "execution_count": 72,
      "outputs": [
        {
          "output_type": "execute_result",
          "data": {
            "text/plain": [
              "2023-01-01    1.890138e+06\n",
              "2023-02-01    7.908176e+05\n",
              "2023-03-01    2.963886e+05\n",
              "2023-04-01    1.458904e+06\n",
              "2023-05-01    9.588292e+05\n",
              "2023-06-01    3.022124e+05\n",
              "2023-07-01    1.092265e+06\n",
              "2023-08-01    7.753481e+05\n",
              "2023-09-01    5.016448e+05\n",
              "2023-10-01    8.124715e+05\n",
              "2023-11-01    1.060359e+06\n",
              "2023-12-01    7.342538e+05\n",
              "2024-01-01    1.449410e+06\n",
              "Freq: MS, Name: predicted_mean, dtype: float64"
            ]
          },
          "metadata": {},
          "execution_count": 72
        }
      ]
    }
  ]
}